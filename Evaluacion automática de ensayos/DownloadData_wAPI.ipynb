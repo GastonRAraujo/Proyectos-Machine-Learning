{
  "nbformat": 4,
  "nbformat_minor": 0,
  "metadata": {
    "colab": {
      "name": "DownloadData_wAPI.ipynb",
      "provenance": [],
      "collapsed_sections": [],
      "authorship_tag": "ABX9TyPWgjYm5BrAGpM79rUXqcbI",
      "include_colab_link": true
    },
    "kernelspec": {
      "name": "python3",
      "display_name": "Python 3"
    }
  },
  "cells": [
    {
      "cell_type": "markdown",
      "metadata": {
        "id": "view-in-github",
        "colab_type": "text"
      },
      "source": [
        "<a href=\"https://colab.research.google.com/github/GastonRAraujo/Materia-Ap_Maq/blob/master/Proyecto_Final/DownloadData_wAPI.ipynb\" target=\"_parent\"><img src=\"https://colab.research.google.com/assets/colab-badge.svg\" alt=\"Open In Colab\"/></a>"
      ]
    },
    {
      "cell_type": "markdown",
      "metadata": {
        "id": "qgPjZtRI9IY1"
      },
      "source": [
        "Utilizando la API de Kaggle se descargará el dataset para luego subirlo a GitHub y asi agilizar su uso."
      ]
    },
    {
      "cell_type": "markdown",
      "metadata": {
        "id": "vgecECZf9bQx"
      },
      "source": [
        "Primero montamos google drive."
      ]
    },
    {
      "cell_type": "code",
      "metadata": {
        "colab": {
          "base_uri": "https://localhost:8080/"
        },
        "id": "EJK9sUfZY5t1",
        "outputId": "8992e58d-a4b5-46f5-aae2-6941f8c27849"
      },
      "source": [
        "from google.colab import drive\r\n",
        "drive.mount('/gdrive')"
      ],
      "execution_count": 1,
      "outputs": [
        {
          "output_type": "stream",
          "text": [
            "Mounted at /gdrive\n"
          ],
          "name": "stdout"
        }
      ]
    },
    {
      "cell_type": "markdown",
      "metadata": {
        "id": "ocASFulx9e7M"
      },
      "source": [
        "Luego debemos localizar la carpeta donde se encuentra el archivo \"json\" o token que nos permite realizar la descarga."
      ]
    },
    {
      "cell_type": "code",
      "metadata": {
        "id": "3SZGdLCyY97d"
      },
      "source": [
        "import os\r\n",
        "os.environ['KAGGLE_CONFIG_DIR'] = '/gdrive/MyDrive/UNS/Aprendizaje_de_maquina/Proyecto_Final'"
      ],
      "execution_count": 2,
      "outputs": []
    },
    {
      "cell_type": "markdown",
      "metadata": {
        "id": "p7VyhrfN9m6U"
      },
      "source": [
        "Kaggle nos proporciona el codigo que debemos utilizar para descargar el dataset que querramos"
      ]
    },
    {
      "cell_type": "code",
      "metadata": {
        "colab": {
          "base_uri": "https://localhost:8080/"
        },
        "id": "Q15K97_UY_Kr",
        "outputId": "073abeeb-3c4b-4ec7-8fec-017641fe4d70"
      },
      "source": [
        "!kaggle competitions download -c asap-aes"
      ],
      "execution_count": 3,
      "outputs": [
        {
          "output_type": "stream",
          "text": [
            "Warning: Looks like you're using an outdated API Version, please consider updating (server 1.5.10 / client 1.5.4)\n",
            "Downloading valid_set.xlsx.zip to /content\n",
            "  0% 0.00/2.01M [00:00<?, ?B/s]\n",
            "100% 2.01M/2.01M [00:00<00:00, 67.7MB/s]\n",
            "Downloading valid_sample_submission_1_column_no_header.csv to /content\n",
            "  0% 0.00/14.9k [00:00<?, ?B/s]\n",
            "100% 14.9k/14.9k [00:00<00:00, 14.9MB/s]\n",
            "Downloading Training_Materials.zip to /content\n",
            " 75% 41.0M/55.0M [00:00<00:00, 38.5MB/s]\n",
            "100% 55.0M/55.0M [00:01<00:00, 56.1MB/s]\n",
            "Downloading valid_sample_submission_2_column.csv to /content\n",
            "  0% 0.00/41.4k [00:00<?, ?B/s]\n",
            "100% 41.4k/41.4k [00:00<00:00, 39.7MB/s]\n",
            "Downloading test_set.tsv.zip to /content\n",
            "  0% 0.00/1.60M [00:00<?, ?B/s]\n",
            "100% 1.60M/1.60M [00:00<00:00, 109MB/s]\n",
            "Downloading valid_set.tsv.zip to /content\n",
            "  0% 0.00/1.60M [00:00<?, ?B/s]\n",
            "100% 1.60M/1.60M [00:00<00:00, 231MB/s]\n",
            "Downloading valid_sample_submission_1_column.csv to /content\n",
            "  0% 0.00/14.9k [00:00<?, ?B/s]\n",
            "100% 14.9k/14.9k [00:00<00:00, 14.0MB/s]\n",
            "Downloading valid_set.xls.zip to /content\n",
            "  0% 0.00/1.79M [00:00<?, ?B/s]\n",
            "100% 1.79M/1.79M [00:00<00:00, 228MB/s]\n",
            "Downloading training_set_rel3.xls.zip to /content\n",
            "  0% 0.00/5.49M [00:00<?, ?B/s]\n",
            "100% 5.49M/5.49M [00:00<00:00, 90.0MB/s]\n",
            "Downloading Essay_Set_Descriptions.zip to /content\n",
            "  0% 0.00/214k [00:00<?, ?B/s]\n",
            "100% 214k/214k [00:00<00:00, 216MB/s]\n",
            "Downloading training_set_rel3.tsv.zip to /content\n",
            "  0% 0.00/4.86M [00:00<?, ?B/s]\n",
            "100% 4.86M/4.86M [00:00<00:00, 44.7MB/s]\n",
            "Downloading training_set_rel3.xlsx.zip to /content\n",
            "  0% 0.00/6.20M [00:00<?, ?B/s]\n",
            "100% 6.20M/6.20M [00:00<00:00, 57.1MB/s]\n",
            "Downloading valid_sample_submission_5_column.csv to /content\n",
            "  0% 0.00/88.5k [00:00<?, ?B/s]\n",
            "100% 88.5k/88.5k [00:00<00:00, 162MB/s]\n"
          ],
          "name": "stdout"
        }
      ]
    },
    {
      "cell_type": "code",
      "metadata": {
        "colab": {
          "base_uri": "https://localhost:8080/"
        },
        "id": "Xg4UwlBNAcwc",
        "outputId": "5208769b-8236-4d43-db9c-0ef7cd6617d0"
      },
      "source": [
        "!unzip training_set_rel3.tsv.zip\r\n",
        "\r\n",
        "!unzip valid_set.xlsx.zip"
      ],
      "execution_count": 4,
      "outputs": [
        {
          "output_type": "stream",
          "text": [
            "Archive:  training_set_rel3.tsv.zip\n",
            "  inflating: training_set_rel3.tsv   \n",
            "Archive:  valid_set.xlsx.zip\n",
            "  inflating: valid_set.xlsx          \n"
          ],
          "name": "stdout"
        }
      ]
    },
    {
      "cell_type": "markdown",
      "metadata": {
        "id": "Rex6AsA5ecXQ"
      },
      "source": [
        "Unificaremos dos archivos ya que poseen los datos de validación repartidos entre ambos. Esto se explica en detalle al final del archivo."
      ]
    },
    {
      "cell_type": "code",
      "metadata": {
        "colab": {
          "base_uri": "https://localhost:8080/",
          "height": 142
        },
        "id": "U--t9_EyemJQ",
        "outputId": "91e6ca11-5d1d-4e06-86ed-4edb68a4639d"
      },
      "source": [
        "import pandas as pd\r\n",
        "\r\n",
        "df1 = pd.read_csv('/content/valid_sample_submission_5_column.csv')\r\n",
        "df1.head(3)"
      ],
      "execution_count": 5,
      "outputs": [
        {
          "output_type": "execute_result",
          "data": {
            "text/html": [
              "<div>\n",
              "<style scoped>\n",
              "    .dataframe tbody tr th:only-of-type {\n",
              "        vertical-align: middle;\n",
              "    }\n",
              "\n",
              "    .dataframe tbody tr th {\n",
              "        vertical-align: top;\n",
              "    }\n",
              "\n",
              "    .dataframe thead th {\n",
              "        text-align: right;\n",
              "    }\n",
              "</style>\n",
              "<table border=\"1\" class=\"dataframe\">\n",
              "  <thead>\n",
              "    <tr style=\"text-align: right;\">\n",
              "      <th></th>\n",
              "      <th>prediction_id</th>\n",
              "      <th>essay_id</th>\n",
              "      <th>essay_set</th>\n",
              "      <th>essay_weight</th>\n",
              "      <th>predicted_score</th>\n",
              "    </tr>\n",
              "  </thead>\n",
              "  <tbody>\n",
              "    <tr>\n",
              "      <th>0</th>\n",
              "      <td>1788</td>\n",
              "      <td>1788</td>\n",
              "      <td>1</td>\n",
              "      <td>1.0</td>\n",
              "      <td>7</td>\n",
              "    </tr>\n",
              "    <tr>\n",
              "      <th>1</th>\n",
              "      <td>1789</td>\n",
              "      <td>1789</td>\n",
              "      <td>1</td>\n",
              "      <td>1.0</td>\n",
              "      <td>8</td>\n",
              "    </tr>\n",
              "    <tr>\n",
              "      <th>2</th>\n",
              "      <td>1790</td>\n",
              "      <td>1790</td>\n",
              "      <td>1</td>\n",
              "      <td>1.0</td>\n",
              "      <td>9</td>\n",
              "    </tr>\n",
              "  </tbody>\n",
              "</table>\n",
              "</div>"
            ],
            "text/plain": [
              "   prediction_id  essay_id  essay_set  essay_weight  predicted_score\n",
              "0           1788      1788          1           1.0                7\n",
              "1           1789      1789          1           1.0                8\n",
              "2           1790      1790          1           1.0                9"
            ]
          },
          "metadata": {
            "tags": []
          },
          "execution_count": 5
        }
      ]
    },
    {
      "cell_type": "code",
      "metadata": {
        "colab": {
          "base_uri": "https://localhost:8080/",
          "height": 142
        },
        "id": "5Jjf7ziufGwg",
        "outputId": "d58c1b78-1d29-4a2c-9686-cf743a99abd0"
      },
      "source": [
        "df2 = pd.read_excel('/content/valid_set.xlsx')\r\n",
        "df2.head(3)"
      ],
      "execution_count": 6,
      "outputs": [
        {
          "output_type": "execute_result",
          "data": {
            "text/html": [
              "<div>\n",
              "<style scoped>\n",
              "    .dataframe tbody tr th:only-of-type {\n",
              "        vertical-align: middle;\n",
              "    }\n",
              "\n",
              "    .dataframe tbody tr th {\n",
              "        vertical-align: top;\n",
              "    }\n",
              "\n",
              "    .dataframe thead th {\n",
              "        text-align: right;\n",
              "    }\n",
              "</style>\n",
              "<table border=\"1\" class=\"dataframe\">\n",
              "  <thead>\n",
              "    <tr style=\"text-align: right;\">\n",
              "      <th></th>\n",
              "      <th>essay_id</th>\n",
              "      <th>essay_set</th>\n",
              "      <th>essay</th>\n",
              "      <th>domain1_predictionid</th>\n",
              "      <th>domain2_predictionid</th>\n",
              "    </tr>\n",
              "  </thead>\n",
              "  <tbody>\n",
              "    <tr>\n",
              "      <th>0</th>\n",
              "      <td>1788</td>\n",
              "      <td>1</td>\n",
              "      <td>Dear @ORGANIZATION1, @CAPS1 more and more peop...</td>\n",
              "      <td>1788</td>\n",
              "      <td>NaN</td>\n",
              "    </tr>\n",
              "    <tr>\n",
              "      <th>1</th>\n",
              "      <td>1789</td>\n",
              "      <td>1</td>\n",
              "      <td>Dear @LOCATION1 Time @CAPS1 me tell you what I...</td>\n",
              "      <td>1789</td>\n",
              "      <td>NaN</td>\n",
              "    </tr>\n",
              "    <tr>\n",
              "      <th>2</th>\n",
              "      <td>1790</td>\n",
              "      <td>1</td>\n",
              "      <td>Dear Local newspaper, Have you been spending a...</td>\n",
              "      <td>1790</td>\n",
              "      <td>NaN</td>\n",
              "    </tr>\n",
              "  </tbody>\n",
              "</table>\n",
              "</div>"
            ],
            "text/plain": [
              "   essay_id  essay_set  ... domain1_predictionid  domain2_predictionid\n",
              "0      1788          1  ...                 1788                   NaN\n",
              "1      1789          1  ...                 1789                   NaN\n",
              "2      1790          1  ...                 1790                   NaN\n",
              "\n",
              "[3 rows x 5 columns]"
            ]
          },
          "metadata": {
            "tags": []
          },
          "execution_count": 6
        }
      ]
    },
    {
      "cell_type": "code",
      "metadata": {
        "colab": {
          "base_uri": "https://localhost:8080/",
          "height": 204
        },
        "id": "sRk0FYCpfOnn",
        "outputId": "9f4565dc-09b4-4c1d-fee6-7570f19cb36d"
      },
      "source": [
        "df2.drop(columns=['domain1_predictionid',\t'domain2_predictionid'],inplace=True)\r\n",
        "\r\n",
        "df2['predicted_score'] = df1['predicted_score']\r\n",
        "\r\n",
        "df2.to_csv('valid_set.csv', index=False)\r\n",
        "df2.head()"
      ],
      "execution_count": 7,
      "outputs": [
        {
          "output_type": "execute_result",
          "data": {
            "text/html": [
              "<div>\n",
              "<style scoped>\n",
              "    .dataframe tbody tr th:only-of-type {\n",
              "        vertical-align: middle;\n",
              "    }\n",
              "\n",
              "    .dataframe tbody tr th {\n",
              "        vertical-align: top;\n",
              "    }\n",
              "\n",
              "    .dataframe thead th {\n",
              "        text-align: right;\n",
              "    }\n",
              "</style>\n",
              "<table border=\"1\" class=\"dataframe\">\n",
              "  <thead>\n",
              "    <tr style=\"text-align: right;\">\n",
              "      <th></th>\n",
              "      <th>essay_id</th>\n",
              "      <th>essay_set</th>\n",
              "      <th>essay</th>\n",
              "      <th>predicted_score</th>\n",
              "    </tr>\n",
              "  </thead>\n",
              "  <tbody>\n",
              "    <tr>\n",
              "      <th>0</th>\n",
              "      <td>1788</td>\n",
              "      <td>1</td>\n",
              "      <td>Dear @ORGANIZATION1, @CAPS1 more and more peop...</td>\n",
              "      <td>7</td>\n",
              "    </tr>\n",
              "    <tr>\n",
              "      <th>1</th>\n",
              "      <td>1789</td>\n",
              "      <td>1</td>\n",
              "      <td>Dear @LOCATION1 Time @CAPS1 me tell you what I...</td>\n",
              "      <td>8</td>\n",
              "    </tr>\n",
              "    <tr>\n",
              "      <th>2</th>\n",
              "      <td>1790</td>\n",
              "      <td>1</td>\n",
              "      <td>Dear Local newspaper, Have you been spending a...</td>\n",
              "      <td>9</td>\n",
              "    </tr>\n",
              "    <tr>\n",
              "      <th>3</th>\n",
              "      <td>1791</td>\n",
              "      <td>1</td>\n",
              "      <td>Dear Readers, @CAPS1 you imagine how life woul...</td>\n",
              "      <td>9</td>\n",
              "    </tr>\n",
              "    <tr>\n",
              "      <th>4</th>\n",
              "      <td>1792</td>\n",
              "      <td>1</td>\n",
              "      <td>Dear newspaper, I strongly believe that comput...</td>\n",
              "      <td>9</td>\n",
              "    </tr>\n",
              "  </tbody>\n",
              "</table>\n",
              "</div>"
            ],
            "text/plain": [
              "   essay_id  ...  predicted_score\n",
              "0      1788  ...                7\n",
              "1      1789  ...                8\n",
              "2      1790  ...                9\n",
              "3      1791  ...                9\n",
              "4      1792  ...                9\n",
              "\n",
              "[5 rows x 4 columns]"
            ]
          },
          "metadata": {
            "tags": []
          },
          "execution_count": 7
        }
      ]
    },
    {
      "cell_type": "markdown",
      "metadata": {
        "id": "H-ASwvDP9wkk"
      },
      "source": [
        "Por último corremos el siguiente comando que localiza la carpeta donde se encuentran los datos descargados y la copia a la carpeta de destino en nuestro drive para evitar que sean eliminados al terminar la sesion de Colab"
      ]
    },
    {
      "cell_type": "code",
      "metadata": {
        "id": "o8F0tmjrBzJ0"
      },
      "source": [
        "#path that contains folder you want to copy\r\n",
        "%cd /content\r\n",
        "%cp -av /content /gdrive/MyDrive/UNS/Aprendizaje_de_maquina/Proyecto_Final/data"
      ],
      "execution_count": null,
      "outputs": []
    },
    {
      "cell_type": "markdown",
      "metadata": {
        "id": "q5mmZ6IkB0zW"
      },
      "source": [
        "O si solo queremos ciertos archivos:"
      ]
    },
    {
      "cell_type": "code",
      "metadata": {
        "colab": {
          "base_uri": "https://localhost:8080/"
        },
        "id": "B4Gl-rjmZME0",
        "outputId": "a81c491c-a130-49d6-a5e7-a1d64ad41fbb"
      },
      "source": [
        "#path that contains folder you want to copy\r\n",
        "%cd /content\r\n",
        "%cp -av /content/training_set_rel3.tsv /gdrive/MyDrive/UNS/Aprendizaje_de_maquina/Proyecto_Final/data"
      ],
      "execution_count": 8,
      "outputs": [
        {
          "output_type": "stream",
          "text": [
            "/content\n",
            "'/content/training_set_rel3.tsv' -> '/gdrive/MyDrive/UNS/Aprendizaje_de_maquina/Proyecto_Final/data/training_set_rel3.tsv'\n"
          ],
          "name": "stdout"
        }
      ]
    },
    {
      "cell_type": "code",
      "metadata": {
        "colab": {
          "base_uri": "https://localhost:8080/"
        },
        "id": "BEMWPgGZil0o",
        "outputId": "2c03afc7-65ed-4bc8-dbdf-6fd6a9a520ac"
      },
      "source": [
        "#path that contains folder you want to copy\r\n",
        "%cd /content\r\n",
        "%cp -av /content/valid_set.csv /gdrive/MyDrive/UNS/Aprendizaje_de_maquina/Proyecto_Final/data"
      ],
      "execution_count": 9,
      "outputs": [
        {
          "output_type": "stream",
          "text": [
            "/content\n",
            "'/content/valid_set.csv' -> '/gdrive/MyDrive/UNS/Aprendizaje_de_maquina/Proyecto_Final/data/valid_set.csv'\n"
          ],
          "name": "stdout"
        }
      ]
    },
    {
      "cell_type": "markdown",
      "metadata": {
        "id": "yvkM8zvd9_7E"
      },
      "source": [
        "Lo siguiente es subir al [repositorio](https://github.com/GastonRAraujo/Materia-Ap_Maq) del proyecto los archivos necesarios, ya que el dataset consta de archivos extra como documentacion, distintos formatos para los datos...\r\n",
        "De esta forma podremos acceder a ellos utilizando directamente la libreria pandas y el link que nos otorga GitHub para cada archivo."
      ]
    },
    {
      "cell_type": "markdown",
      "metadata": {
        "id": "18zZBgwnB7Lc"
      },
      "source": [
        "Es importante leer la documentación ya que contiene información sobre la estructura de los datos. Esto nos permitirá hacer un mejor procesamiento de los mismos. Por ejemplo los datos de validación se encontraban separados en dos hojas de cálculos distintas, las cuales contenían por un lado los ensayos y su \"id\" y por otro lado el \"id\" y la nota correspondiente. El archivo \"valid_sample_submission_5_column.csv\" posee el puntaje correspondiente a los datos de validación, \"valid_set.xlsx\" que contiene los ensayos de validación y por último \"valid_set.csv\" fue creado y contiene los datos de validación."
      ]
    }
  ]
}