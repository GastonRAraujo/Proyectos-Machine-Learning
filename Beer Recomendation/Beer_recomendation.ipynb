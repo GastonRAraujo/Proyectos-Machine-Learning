{
  "nbformat": 4,
  "nbformat_minor": 0,
  "metadata": {
    "colab": {
      "name": "Beer recomendation.ipynb",
      "provenance": [],
      "collapsed_sections": [],
      "authorship_tag": "ABX9TyP3Pxkr0E8+RI8rddae2LiN",
      "include_colab_link": true
    },
    "kernelspec": {
      "display_name": "Python 3",
      "name": "python3"
    }
  },
  "cells": [
    {
      "cell_type": "markdown",
      "metadata": {
        "id": "view-in-github",
        "colab_type": "text"
      },
      "source": [
        "<a href=\"https://colab.research.google.com/github/GastonRAraujo/Materia-Ap_Maq/blob/master/TP5/Beer_recomendation.ipynb\" target=\"_parent\"><img src=\"https://colab.research.google.com/assets/colab-badge.svg\" alt=\"Open In Colab\"/></a>"
      ]
    },
    {
      "cell_type": "code",
      "metadata": {
        "colab": {
          "base_uri": "https://localhost:8080/"
        },
        "id": "4gvUs-0bTXai",
        "outputId": "75f4e3de-0e5d-49b2-e70d-126daf7ba54f"
      },
      "source": [
        "!pip install -U yellowbrick"
      ],
      "execution_count": 1,
      "outputs": [
        {
          "output_type": "stream",
          "text": [
            "Requirement already up-to-date: yellowbrick in /usr/local/lib/python3.6/dist-packages (1.2)\n",
            "Requirement already satisfied, skipping upgrade: matplotlib!=3.0.0,>=2.0.2 in /usr/local/lib/python3.6/dist-packages (from yellowbrick) (3.2.2)\n",
            "Requirement already satisfied, skipping upgrade: scikit-learn>=0.20 in /usr/local/lib/python3.6/dist-packages (from yellowbrick) (0.22.2.post1)\n",
            "Requirement already satisfied, skipping upgrade: scipy>=1.0.0 in /usr/local/lib/python3.6/dist-packages (from yellowbrick) (1.4.1)\n",
            "Requirement already satisfied, skipping upgrade: cycler>=0.10.0 in /usr/local/lib/python3.6/dist-packages (from yellowbrick) (0.10.0)\n",
            "Requirement already satisfied, skipping upgrade: numpy>=1.13.0 in /usr/local/lib/python3.6/dist-packages (from yellowbrick) (1.18.5)\n",
            "Requirement already satisfied, skipping upgrade: kiwisolver>=1.0.1 in /usr/local/lib/python3.6/dist-packages (from matplotlib!=3.0.0,>=2.0.2->yellowbrick) (1.3.1)\n",
            "Requirement already satisfied, skipping upgrade: pyparsing!=2.0.4,!=2.1.2,!=2.1.6,>=2.0.1 in /usr/local/lib/python3.6/dist-packages (from matplotlib!=3.0.0,>=2.0.2->yellowbrick) (2.4.7)\n",
            "Requirement already satisfied, skipping upgrade: python-dateutil>=2.1 in /usr/local/lib/python3.6/dist-packages (from matplotlib!=3.0.0,>=2.0.2->yellowbrick) (2.8.1)\n",
            "Requirement already satisfied, skipping upgrade: joblib>=0.11 in /usr/local/lib/python3.6/dist-packages (from scikit-learn>=0.20->yellowbrick) (0.17.0)\n",
            "Requirement already satisfied, skipping upgrade: six in /usr/local/lib/python3.6/dist-packages (from cycler>=0.10.0->yellowbrick) (1.15.0)\n"
          ],
          "name": "stdout"
        }
      ]
    },
    {
      "cell_type": "code",
      "metadata": {
        "id": "Q-KWdDVyY9CL"
      },
      "source": [
        "#imports\n",
        "import numpy as np\n",
        "import pandas as pd\n",
        "\n",
        "#import viz\n",
        "import matplotlib.pyplot as plt\n",
        "import seaborn as sns\n",
        "\n",
        "%matplotlib inline\n",
        "from matplotlib import style\n",
        "plt.style.use('seaborn')   #lo uso para cmabiar el background de las figuras porque uso dark mode\n",
        "\n",
        "from sklearn.model_selection import train_test_split"
      ],
      "execution_count": 2,
      "outputs": []
    },
    {
      "cell_type": "code",
      "metadata": {
        "id": "hxsGNqHDv0KI"
      },
      "source": [
        "#style.use('seaborn') or plt.style.use('seaborn')"
      ],
      "execution_count": 229,
      "outputs": []
    },
    {
      "cell_type": "code",
      "metadata": {
        "colab": {
          "base_uri": "https://localhost:8080/",
          "height": 343
        },
        "id": "riMjQjefWWZW",
        "outputId": "fe51569d-1c7a-426d-ea61-d822707992e5"
      },
      "source": [
        "import pandas as pd\n",
        "beer_reviews_1 = pd.read_csv(\"https://raw.githubusercontent.com/emmanueliarussi/DataScienceCapstone/master/3_MidtermProjects/ProjectBEE/data/beer_reviews_1.csv\")\n",
        "beer_reviews_1.head(5)"
      ],
      "execution_count": 3,
      "outputs": [
        {
          "output_type": "execute_result",
          "data": {
            "text/html": [
              "<div>\n",
              "<style scoped>\n",
              "    .dataframe tbody tr th:only-of-type {\n",
              "        vertical-align: middle;\n",
              "    }\n",
              "\n",
              "    .dataframe tbody tr th {\n",
              "        vertical-align: top;\n",
              "    }\n",
              "\n",
              "    .dataframe thead th {\n",
              "        text-align: right;\n",
              "    }\n",
              "</style>\n",
              "<table border=\"1\" class=\"dataframe\">\n",
              "  <thead>\n",
              "    <tr style=\"text-align: right;\">\n",
              "      <th></th>\n",
              "      <th>brewery_id</th>\n",
              "      <th>brewery_name</th>\n",
              "      <th>review_time</th>\n",
              "      <th>review_overall</th>\n",
              "      <th>review_aroma</th>\n",
              "      <th>review_appearance</th>\n",
              "      <th>review_profilename</th>\n",
              "      <th>beer_style</th>\n",
              "      <th>review_palate</th>\n",
              "      <th>review_taste</th>\n",
              "      <th>beer_name</th>\n",
              "      <th>beer_abv</th>\n",
              "      <th>beer_beerid</th>\n",
              "    </tr>\n",
              "  </thead>\n",
              "  <tbody>\n",
              "    <tr>\n",
              "      <th>0</th>\n",
              "      <td>10325</td>\n",
              "      <td>Vecchio Birraio</td>\n",
              "      <td>1234817823</td>\n",
              "      <td>1.5</td>\n",
              "      <td>2.0</td>\n",
              "      <td>2.5</td>\n",
              "      <td>stcules</td>\n",
              "      <td>Hefeweizen</td>\n",
              "      <td>1.5</td>\n",
              "      <td>1.5</td>\n",
              "      <td>Sausa Weizen</td>\n",
              "      <td>5.0</td>\n",
              "      <td>47986</td>\n",
              "    </tr>\n",
              "    <tr>\n",
              "      <th>1</th>\n",
              "      <td>10325</td>\n",
              "      <td>Vecchio Birraio</td>\n",
              "      <td>1235915097</td>\n",
              "      <td>3.0</td>\n",
              "      <td>2.5</td>\n",
              "      <td>3.0</td>\n",
              "      <td>stcules</td>\n",
              "      <td>English Strong Ale</td>\n",
              "      <td>3.0</td>\n",
              "      <td>3.0</td>\n",
              "      <td>Red Moon</td>\n",
              "      <td>6.2</td>\n",
              "      <td>48213</td>\n",
              "    </tr>\n",
              "    <tr>\n",
              "      <th>2</th>\n",
              "      <td>10325</td>\n",
              "      <td>Vecchio Birraio</td>\n",
              "      <td>1235916604</td>\n",
              "      <td>3.0</td>\n",
              "      <td>2.5</td>\n",
              "      <td>3.0</td>\n",
              "      <td>stcules</td>\n",
              "      <td>Foreign / Export Stout</td>\n",
              "      <td>3.0</td>\n",
              "      <td>3.0</td>\n",
              "      <td>Black Horse Black Beer</td>\n",
              "      <td>6.5</td>\n",
              "      <td>48215</td>\n",
              "    </tr>\n",
              "    <tr>\n",
              "      <th>3</th>\n",
              "      <td>10325</td>\n",
              "      <td>Vecchio Birraio</td>\n",
              "      <td>1234725145</td>\n",
              "      <td>3.0</td>\n",
              "      <td>3.0</td>\n",
              "      <td>3.5</td>\n",
              "      <td>stcules</td>\n",
              "      <td>German Pilsener</td>\n",
              "      <td>2.5</td>\n",
              "      <td>3.0</td>\n",
              "      <td>Sausa Pils</td>\n",
              "      <td>5.0</td>\n",
              "      <td>47969</td>\n",
              "    </tr>\n",
              "    <tr>\n",
              "      <th>4</th>\n",
              "      <td>1075</td>\n",
              "      <td>Caldera Brewing Company</td>\n",
              "      <td>1293735206</td>\n",
              "      <td>4.0</td>\n",
              "      <td>4.5</td>\n",
              "      <td>4.0</td>\n",
              "      <td>johnmichaelsen</td>\n",
              "      <td>American Double / Imperial IPA</td>\n",
              "      <td>4.0</td>\n",
              "      <td>4.5</td>\n",
              "      <td>Cauldron DIPA</td>\n",
              "      <td>7.7</td>\n",
              "      <td>64883</td>\n",
              "    </tr>\n",
              "  </tbody>\n",
              "</table>\n",
              "</div>"
            ],
            "text/plain": [
              "   brewery_id             brewery_name  ...  beer_abv  beer_beerid\n",
              "0       10325          Vecchio Birraio  ...       5.0        47986\n",
              "1       10325          Vecchio Birraio  ...       6.2        48213\n",
              "2       10325          Vecchio Birraio  ...       6.5        48215\n",
              "3       10325          Vecchio Birraio  ...       5.0        47969\n",
              "4        1075  Caldera Brewing Company  ...       7.7        64883\n",
              "\n",
              "[5 rows x 13 columns]"
            ]
          },
          "metadata": {
            "tags": []
          },
          "execution_count": 3
        }
      ]
    },
    {
      "cell_type": "code",
      "metadata": {
        "colab": {
          "base_uri": "https://localhost:8080/",
          "height": 366
        },
        "id": "NQ4XE3HzXwOT",
        "outputId": "8ffddfdf-71b9-4017-cbca-8f1374259263"
      },
      "source": [
        "beer_reviews_2 = pd.read_csv(\"https://raw.githubusercontent.com/emmanueliarussi/DataScienceCapstone/master/3_MidtermProjects/ProjectBEE/data/beer_reviews_2.csv\")\n",
        "beer_reviews_2.head(3)"
      ],
      "execution_count": 4,
      "outputs": [
        {
          "output_type": "execute_result",
          "data": {
            "text/html": [
              "<div>\n",
              "<style scoped>\n",
              "    .dataframe tbody tr th:only-of-type {\n",
              "        vertical-align: middle;\n",
              "    }\n",
              "\n",
              "    .dataframe tbody tr th {\n",
              "        vertical-align: top;\n",
              "    }\n",
              "\n",
              "    .dataframe thead th {\n",
              "        text-align: right;\n",
              "    }\n",
              "</style>\n",
              "<table border=\"1\" class=\"dataframe\">\n",
              "  <thead>\n",
              "    <tr style=\"text-align: right;\">\n",
              "      <th></th>\n",
              "      <th>brewery_id</th>\n",
              "      <th>brewery_name</th>\n",
              "      <th>review_time</th>\n",
              "      <th>review_overall</th>\n",
              "      <th>review_aroma</th>\n",
              "      <th>review_appearance</th>\n",
              "      <th>review_profilename</th>\n",
              "      <th>beer_style</th>\n",
              "      <th>review_palate</th>\n",
              "      <th>review_taste</th>\n",
              "      <th>beer_name</th>\n",
              "      <th>beer_abv</th>\n",
              "      <th>beer_beerid</th>\n",
              "    </tr>\n",
              "  </thead>\n",
              "  <tbody>\n",
              "    <tr>\n",
              "      <th>0</th>\n",
              "      <td>147</td>\n",
              "      <td>Stone Brewing Co.</td>\n",
              "      <td>1283263116</td>\n",
              "      <td>4.0</td>\n",
              "      <td>4.0</td>\n",
              "      <td>4.0</td>\n",
              "      <td>Tilley4</td>\n",
              "      <td>American Barleywine</td>\n",
              "      <td>4.5</td>\n",
              "      <td>4.0</td>\n",
              "      <td>Stone Old Guardian Barley Wine Style Ale 2010</td>\n",
              "      <td>11.1</td>\n",
              "      <td>56068</td>\n",
              "    </tr>\n",
              "    <tr>\n",
              "      <th>1</th>\n",
              "      <td>147</td>\n",
              "      <td>Stone Brewing Co.</td>\n",
              "      <td>1283104309</td>\n",
              "      <td>4.0</td>\n",
              "      <td>4.0</td>\n",
              "      <td>4.0</td>\n",
              "      <td>kzoobrew</td>\n",
              "      <td>American Barleywine</td>\n",
              "      <td>4.5</td>\n",
              "      <td>4.0</td>\n",
              "      <td>Stone Old Guardian Barley Wine Style Ale 2010</td>\n",
              "      <td>11.1</td>\n",
              "      <td>56068</td>\n",
              "    </tr>\n",
              "    <tr>\n",
              "      <th>2</th>\n",
              "      <td>147</td>\n",
              "      <td>Stone Brewing Co.</td>\n",
              "      <td>1283041969</td>\n",
              "      <td>4.0</td>\n",
              "      <td>4.0</td>\n",
              "      <td>4.0</td>\n",
              "      <td>atsprings</td>\n",
              "      <td>American Barleywine</td>\n",
              "      <td>3.5</td>\n",
              "      <td>4.0</td>\n",
              "      <td>Stone Old Guardian Barley Wine Style Ale 2010</td>\n",
              "      <td>11.1</td>\n",
              "      <td>56068</td>\n",
              "    </tr>\n",
              "  </tbody>\n",
              "</table>\n",
              "</div>"
            ],
            "text/plain": [
              "   brewery_id       brewery_name  ...  beer_abv  beer_beerid\n",
              "0         147  Stone Brewing Co.  ...      11.1        56068\n",
              "1         147  Stone Brewing Co.  ...      11.1        56068\n",
              "2         147  Stone Brewing Co.  ...      11.1        56068\n",
              "\n",
              "[3 rows x 13 columns]"
            ]
          },
          "metadata": {
            "tags": []
          },
          "execution_count": 4
        }
      ]
    },
    {
      "cell_type": "markdown",
      "metadata": {
        "id": "FqRHVVG8Znm3"
      },
      "source": [
        "Unifico ambos dataframes"
      ]
    },
    {
      "cell_type": "code",
      "metadata": {
        "colab": {
          "base_uri": "https://localhost:8080/",
          "height": 297
        },
        "id": "C7YkUTTnZiis",
        "outputId": "04af2e13-21e7-4611-8beb-4fda5583ea35"
      },
      "source": [
        "df = pd.concat([beer_reviews_1, beer_reviews_2], ignore_index=True)\n",
        "\n",
        "df.describe()"
      ],
      "execution_count": 5,
      "outputs": [
        {
          "output_type": "execute_result",
          "data": {
            "text/html": [
              "<div>\n",
              "<style scoped>\n",
              "    .dataframe tbody tr th:only-of-type {\n",
              "        vertical-align: middle;\n",
              "    }\n",
              "\n",
              "    .dataframe tbody tr th {\n",
              "        vertical-align: top;\n",
              "    }\n",
              "\n",
              "    .dataframe thead th {\n",
              "        text-align: right;\n",
              "    }\n",
              "</style>\n",
              "<table border=\"1\" class=\"dataframe\">\n",
              "  <thead>\n",
              "    <tr style=\"text-align: right;\">\n",
              "      <th></th>\n",
              "      <th>brewery_id</th>\n",
              "      <th>review_time</th>\n",
              "      <th>review_overall</th>\n",
              "      <th>review_aroma</th>\n",
              "      <th>review_appearance</th>\n",
              "      <th>review_palate</th>\n",
              "      <th>review_taste</th>\n",
              "      <th>beer_abv</th>\n",
              "      <th>beer_beerid</th>\n",
              "    </tr>\n",
              "  </thead>\n",
              "  <tbody>\n",
              "    <tr>\n",
              "      <th>count</th>\n",
              "      <td>1.586614e+06</td>\n",
              "      <td>1.586614e+06</td>\n",
              "      <td>1.586614e+06</td>\n",
              "      <td>1.586614e+06</td>\n",
              "      <td>1.586614e+06</td>\n",
              "      <td>1.586614e+06</td>\n",
              "      <td>1.586614e+06</td>\n",
              "      <td>1.518829e+06</td>\n",
              "      <td>1.586614e+06</td>\n",
              "    </tr>\n",
              "    <tr>\n",
              "      <th>mean</th>\n",
              "      <td>3.130099e+03</td>\n",
              "      <td>1.224089e+09</td>\n",
              "      <td>3.815581e+00</td>\n",
              "      <td>3.735636e+00</td>\n",
              "      <td>3.841642e+00</td>\n",
              "      <td>3.743701e+00</td>\n",
              "      <td>3.792860e+00</td>\n",
              "      <td>7.042387e+00</td>\n",
              "      <td>2.171279e+04</td>\n",
              "    </tr>\n",
              "    <tr>\n",
              "      <th>std</th>\n",
              "      <td>5.578104e+03</td>\n",
              "      <td>7.654427e+07</td>\n",
              "      <td>7.206219e-01</td>\n",
              "      <td>6.976167e-01</td>\n",
              "      <td>6.160928e-01</td>\n",
              "      <td>6.822184e-01</td>\n",
              "      <td>7.319696e-01</td>\n",
              "      <td>2.322526e+00</td>\n",
              "      <td>2.181834e+04</td>\n",
              "    </tr>\n",
              "    <tr>\n",
              "      <th>min</th>\n",
              "      <td>1.000000e+00</td>\n",
              "      <td>8.406720e+08</td>\n",
              "      <td>0.000000e+00</td>\n",
              "      <td>1.000000e+00</td>\n",
              "      <td>0.000000e+00</td>\n",
              "      <td>1.000000e+00</td>\n",
              "      <td>1.000000e+00</td>\n",
              "      <td>1.000000e-02</td>\n",
              "      <td>3.000000e+00</td>\n",
              "    </tr>\n",
              "    <tr>\n",
              "      <th>25%</th>\n",
              "      <td>1.430000e+02</td>\n",
              "      <td>1.173224e+09</td>\n",
              "      <td>3.500000e+00</td>\n",
              "      <td>3.500000e+00</td>\n",
              "      <td>3.500000e+00</td>\n",
              "      <td>3.500000e+00</td>\n",
              "      <td>3.500000e+00</td>\n",
              "      <td>5.200000e+00</td>\n",
              "      <td>1.717000e+03</td>\n",
              "    </tr>\n",
              "    <tr>\n",
              "      <th>50%</th>\n",
              "      <td>4.290000e+02</td>\n",
              "      <td>1.239203e+09</td>\n",
              "      <td>4.000000e+00</td>\n",
              "      <td>4.000000e+00</td>\n",
              "      <td>4.000000e+00</td>\n",
              "      <td>4.000000e+00</td>\n",
              "      <td>4.000000e+00</td>\n",
              "      <td>6.500000e+00</td>\n",
              "      <td>1.390600e+04</td>\n",
              "    </tr>\n",
              "    <tr>\n",
              "      <th>75%</th>\n",
              "      <td>2.372000e+03</td>\n",
              "      <td>1.288568e+09</td>\n",
              "      <td>4.500000e+00</td>\n",
              "      <td>4.000000e+00</td>\n",
              "      <td>4.000000e+00</td>\n",
              "      <td>4.000000e+00</td>\n",
              "      <td>4.500000e+00</td>\n",
              "      <td>8.500000e+00</td>\n",
              "      <td>3.944100e+04</td>\n",
              "    </tr>\n",
              "    <tr>\n",
              "      <th>max</th>\n",
              "      <td>2.800300e+04</td>\n",
              "      <td>1.326285e+09</td>\n",
              "      <td>5.000000e+00</td>\n",
              "      <td>5.000000e+00</td>\n",
              "      <td>5.000000e+00</td>\n",
              "      <td>5.000000e+00</td>\n",
              "      <td>5.000000e+00</td>\n",
              "      <td>5.770000e+01</td>\n",
              "      <td>7.731700e+04</td>\n",
              "    </tr>\n",
              "  </tbody>\n",
              "</table>\n",
              "</div>"
            ],
            "text/plain": [
              "         brewery_id   review_time  ...      beer_abv   beer_beerid\n",
              "count  1.586614e+06  1.586614e+06  ...  1.518829e+06  1.586614e+06\n",
              "mean   3.130099e+03  1.224089e+09  ...  7.042387e+00  2.171279e+04\n",
              "std    5.578104e+03  7.654427e+07  ...  2.322526e+00  2.181834e+04\n",
              "min    1.000000e+00  8.406720e+08  ...  1.000000e-02  3.000000e+00\n",
              "25%    1.430000e+02  1.173224e+09  ...  5.200000e+00  1.717000e+03\n",
              "50%    4.290000e+02  1.239203e+09  ...  6.500000e+00  1.390600e+04\n",
              "75%    2.372000e+03  1.288568e+09  ...  8.500000e+00  3.944100e+04\n",
              "max    2.800300e+04  1.326285e+09  ...  5.770000e+01  7.731700e+04\n",
              "\n",
              "[8 rows x 9 columns]"
            ]
          },
          "metadata": {
            "tags": []
          },
          "execution_count": 5
        }
      ]
    },
    {
      "cell_type": "markdown",
      "metadata": {
        "id": "HH-D6LyRbBRV"
      },
      "source": [
        "Vemos que hay distintos tipos de datos, desde numérico hasta texto..."
      ]
    },
    {
      "cell_type": "code",
      "metadata": {
        "colab": {
          "base_uri": "https://localhost:8080/"
        },
        "id": "V_PNW-OIbJHU",
        "outputId": "956afb41-3d1a-48d7-b5c8-bcbabad1ab5b"
      },
      "source": [
        "df.info()"
      ],
      "execution_count": 6,
      "outputs": [
        {
          "output_type": "stream",
          "text": [
            "<class 'pandas.core.frame.DataFrame'>\n",
            "RangeIndex: 1586614 entries, 0 to 1586613\n",
            "Data columns (total 13 columns):\n",
            " #   Column              Non-Null Count    Dtype  \n",
            "---  ------              --------------    -----  \n",
            " 0   brewery_id          1586614 non-null  int64  \n",
            " 1   brewery_name        1586599 non-null  object \n",
            " 2   review_time         1586614 non-null  int64  \n",
            " 3   review_overall      1586614 non-null  float64\n",
            " 4   review_aroma        1586614 non-null  float64\n",
            " 5   review_appearance   1586614 non-null  float64\n",
            " 6   review_profilename  1586266 non-null  object \n",
            " 7   beer_style          1586614 non-null  object \n",
            " 8   review_palate       1586614 non-null  float64\n",
            " 9   review_taste        1586614 non-null  float64\n",
            " 10  beer_name           1586614 non-null  object \n",
            " 11  beer_abv            1518829 non-null  float64\n",
            " 12  beer_beerid         1586614 non-null  int64  \n",
            "dtypes: float64(6), int64(3), object(4)\n",
            "memory usage: 157.4+ MB\n"
          ],
          "name": "stdout"
        }
      ]
    },
    {
      "cell_type": "markdown",
      "metadata": {
        "id": "1Z1AFwW-bxPJ"
      },
      "source": [
        "Vemos que hay valores faltantes en las distintas columnas."
      ]
    },
    {
      "cell_type": "markdown",
      "metadata": {
        "id": "vtYOS0qZeGHt"
      },
      "source": [
        "Ahora buscamos datos faltantes..."
      ]
    },
    {
      "cell_type": "code",
      "metadata": {
        "colab": {
          "base_uri": "https://localhost:8080/"
        },
        "id": "_A7zA_Qad8LV",
        "outputId": "3d0b7277-1146-4d8a-8602-aacc225266d5"
      },
      "source": [
        "nulls = pd.isna(df).sum()\n",
        "\n",
        "nulls"
      ],
      "execution_count": 7,
      "outputs": [
        {
          "output_type": "execute_result",
          "data": {
            "text/plain": [
              "brewery_id                0\n",
              "brewery_name             15\n",
              "review_time               0\n",
              "review_overall            0\n",
              "review_aroma              0\n",
              "review_appearance         0\n",
              "review_profilename      348\n",
              "beer_style                0\n",
              "review_palate             0\n",
              "review_taste              0\n",
              "beer_name                 0\n",
              "beer_abv              67785\n",
              "beer_beerid               0\n",
              "dtype: int64"
            ]
          },
          "metadata": {
            "tags": []
          },
          "execution_count": 7
        }
      ]
    },
    {
      "cell_type": "code",
      "metadata": {
        "colab": {
          "base_uri": "https://localhost:8080/"
        },
        "id": "Y0eAWFZSfQIO",
        "outputId": "1a44af12-864b-4d1e-e8e8-a1210f167811"
      },
      "source": [
        "missing = pd.isna(df['brewery_name'])\n",
        "\n",
        "print(df[missing])"
      ],
      "execution_count": 8,
      "outputs": [
        {
          "output_type": "stream",
          "text": [
            "         brewery_id brewery_name  ...  beer_abv  beer_beerid\n",
            "651565         1193          NaN  ...       5.0        67503\n",
            "659293         1193          NaN  ...       7.2        63658\n",
            "659299         1193          NaN  ...       5.4        63215\n",
            "659300         1193          NaN  ...       4.8        63557\n",
            "659301         1193          NaN  ...       5.4        63256\n",
            "659302         1193          NaN  ...       5.9        63459\n",
            "659303         1193          NaN  ...       5.3        63324\n",
            "659304         1193          NaN  ...       5.3        63324\n",
            "659305         1193          NaN  ...       5.3        63324\n",
            "1391043          27          NaN  ...       3.8           60\n",
            "1391049          27          NaN  ...       8.5         3394\n",
            "1391050          27          NaN  ...       8.5         3394\n",
            "1391051          27          NaN  ...       7.2        75135\n",
            "1391052          27          NaN  ...       7.2        75135\n",
            "1391053          27          NaN  ...       7.0        75137\n",
            "\n",
            "[15 rows x 13 columns]\n"
          ],
          "name": "stdout"
        }
      ]
    },
    {
      "cell_type": "markdown",
      "metadata": {
        "id": "32qw-q3UfjAS"
      },
      "source": [
        "A partir de aquí voy a plantear dos posibilidades:\n",
        "una donde elimino completamente las filas donde algun dato sea NaN, y otra donde los reemplazo por la media."
      ]
    },
    {
      "cell_type": "markdown",
      "metadata": {
        "id": "PEdgcD0LqhwE"
      },
      "source": [
        "Elimino los NaN"
      ]
    },
    {
      "cell_type": "code",
      "metadata": {
        "colab": {
          "base_uri": "https://localhost:8080/"
        },
        "id": "DS2aZpKEfix1",
        "outputId": "9849663c-9fa2-44e3-9180-da54fef96947"
      },
      "source": [
        "df = df.dropna()\n",
        "\n",
        "df.info()"
      ],
      "execution_count": 9,
      "outputs": [
        {
          "output_type": "stream",
          "text": [
            "<class 'pandas.core.frame.DataFrame'>\n",
            "Int64Index: 1518478 entries, 0 to 1586613\n",
            "Data columns (total 13 columns):\n",
            " #   Column              Non-Null Count    Dtype  \n",
            "---  ------              --------------    -----  \n",
            " 0   brewery_id          1518478 non-null  int64  \n",
            " 1   brewery_name        1518478 non-null  object \n",
            " 2   review_time         1518478 non-null  int64  \n",
            " 3   review_overall      1518478 non-null  float64\n",
            " 4   review_aroma        1518478 non-null  float64\n",
            " 5   review_appearance   1518478 non-null  float64\n",
            " 6   review_profilename  1518478 non-null  object \n",
            " 7   beer_style          1518478 non-null  object \n",
            " 8   review_palate       1518478 non-null  float64\n",
            " 9   review_taste        1518478 non-null  float64\n",
            " 10  beer_name           1518478 non-null  object \n",
            " 11  beer_abv            1518478 non-null  float64\n",
            " 12  beer_beerid         1518478 non-null  int64  \n",
            "dtypes: float64(6), int64(3), object(4)\n",
            "memory usage: 162.2+ MB\n"
          ],
          "name": "stdout"
        }
      ]
    },
    {
      "cell_type": "markdown",
      "metadata": {
        "id": "dGgxRV3tuu0N"
      },
      "source": [
        "\n",
        "\n",
        "---\n",
        "\n",
        "\n",
        "Ahora voy a chequear que columnas me sirven para identificar una cerveza dada:"
      ]
    },
    {
      "cell_type": "markdown",
      "metadata": {
        "id": "XHE7zAAgu2cM"
      },
      "source": [
        "Poseemos \"ID\" y nombre tanto de cervezas como de cervecerías, por lo que utilizaremos solo uno de los dos."
      ]
    },
    {
      "cell_type": "code",
      "metadata": {
        "colab": {
          "base_uri": "https://localhost:8080/"
        },
        "id": "m7tKO7Y_qyZA",
        "outputId": "f640d20e-7a41-42bb-8876-83858a8c9e87"
      },
      "source": [
        "print( 'Cervezas' )\n",
        "print( 'IDs:', df[ 'beer_beerid' ].nunique() )\n",
        "print( 'Nombres:', df[ 'beer_name' ].nunique() )"
      ],
      "execution_count": 10,
      "outputs": [
        {
          "output_type": "stream",
          "text": [
            "Cervezas\n",
            "IDs: 49000\n",
            "Nombres: 44075\n"
          ],
          "name": "stdout"
        }
      ]
    },
    {
      "cell_type": "markdown",
      "metadata": {
        "id": "yWR4Thjm-5bl"
      },
      "source": [
        "vemos q hay más ids que nombres por lo que una misma cerveza tiene más de un ID"
      ]
    },
    {
      "cell_type": "code",
      "metadata": {
        "colab": {
          "base_uri": "https://localhost:8080/"
        },
        "id": "qnLrZMX_y3n4",
        "outputId": "04287163-da66-404d-bca1-caf0c0b80aba"
      },
      "source": [
        "print( 'Cervecerias' )\n",
        "print( 'IDs:', df[ 'brewery_id' ].nunique() )\n",
        "print( 'Nombres:', df[ 'brewery_name' ].nunique() )"
      ],
      "execution_count": 11,
      "outputs": [
        {
          "output_type": "stream",
          "text": [
            "Cervecerias\n",
            "IDs: 5230\n",
            "Nombres: 5155\n"
          ],
          "name": "stdout"
        }
      ]
    },
    {
      "cell_type": "markdown",
      "metadata": {
        "id": "HzrNjeQ4_qtt"
      },
      "source": [
        "lo mismo sucede con el id de las cevecerías..."
      ]
    },
    {
      "cell_type": "code",
      "metadata": {
        "id": "j4DY0Dk-lfN8"
      },
      "source": [
        "df = df.drop(columns = ['brewery_id', 'beer_beerid'])"
      ],
      "execution_count": 12,
      "outputs": []
    },
    {
      "cell_type": "markdown",
      "metadata": {
        "id": "MRfQ2wA7_u5c"
      },
      "source": [
        "Para realizar el clustering no utilizaré esas columnas."
      ]
    },
    {
      "cell_type": "code",
      "metadata": {
        "colab": {
          "base_uri": "https://localhost:8080/",
          "height": 715
        },
        "id": "7GaTEn8DABq1",
        "outputId": "a8eb3c87-0603-4ebd-a2ff-f16bf17e6083"
      },
      "source": [
        "df.hist(figsize=(12,12), bins=6)\n",
        "\n",
        "plt.show()"
      ],
      "execution_count": 13,
      "outputs": [
        {
          "output_type": "display_data",
          "data": {
            "image/png": "[encoded data removed]",
            "text/plain": [
              "<Figure size 864x864 with 9 Axes>"
            ]
          },
          "metadata": {
            "tags": []
          }
        }
      ]
    },
    {
      "cell_type": "markdown",
      "metadata": {
        "id": "LdIivZhEAb4-"
      },
      "source": [
        "Investigando sobre DataFrame.drop() encontré que es posible utilizarlo para eliminar datos duplicados por lo que procederé a realizarlo.\n",
        "Para eso ordeno por fecha y me quedo con la última reseña que se haya hecho por ser más actual."
      ]
    },
    {
      "cell_type": "code",
      "metadata": {
        "colab": {
          "base_uri": "https://localhost:8080/"
        },
        "id": "xADzPRk_AjDK",
        "outputId": "c875abb1-6169-49c9-a79c-9144c9d0f6af"
      },
      "source": [
        "#La fecha no esta bien fomateada por lo procedo a cambiar el tipo de variable\n",
        "#df[ 'review_time' ] = pd.to_datetime( df[ 'review_time' ], unit = 's' )\n",
        "\n",
        "#reordeno por fecha\n",
        "df = df.sort_values('review_time', ascending = False)\n",
        "\n",
        "#df.info()\n",
        "size_antes = df.shape\n",
        "\n",
        "#elimino duplicados\n",
        "df = df.drop_duplicates(subset=['brewery_name', 'review_profilename', 'beer_name'], keep='first')\n",
        "\n",
        "\n",
        "print('Se han eliminado {} duplicados'.format(size_antes[0]-df.shape[0]))"
      ],
      "execution_count": 14,
      "outputs": [
        {
          "output_type": "stream",
          "text": [
            "Se han eliminado 14570 duplicados\n"
          ],
          "name": "stdout"
        }
      ]
    },
    {
      "cell_type": "code",
      "metadata": {
        "colab": {
          "base_uri": "https://localhost:8080/",
          "height": 445
        },
        "id": "Lx0RbDEieGb6",
        "outputId": "5d0101fa-a900-4cd1-c8b9-f7807c94408c"
      },
      "source": [
        "sns.heatmap(df.corr(), linewidths=.3, annot=True)"
      ],
      "execution_count": 15,
      "outputs": [
        {
          "output_type": "execute_result",
          "data": {
            "text/plain": [
              "<matplotlib.axes._subplots.AxesSubplot at 0x7facdc0aebe0>"
            ]
          },
          "metadata": {
            "tags": []
          },
          "execution_count": 15
        },
        {
          "output_type": "display_data",
          "data": {
            "image/png": "[encoded data removed]",
            "text/plain": [
              "<Figure size 576x396 with 2 Axes>"
            ]
          },
          "metadata": {
            "tags": []
          }
        }
      ]
    },
    {
      "cell_type": "code",
      "metadata": {
        "colab": {
          "base_uri": "https://localhost:8080/"
        },
        "id": "baEjkp7hlrgv",
        "outputId": "868f4624-1ca4-4f50-cedc-a57d656eed41"
      },
      "source": [
        "list(df['beer_style'].unique())"
      ],
      "execution_count": 16,
      "outputs": [
        {
          "output_type": "execute_result",
          "data": {
            "text/plain": [
              "['American Pale Ale (APA)',\n",
              " 'Kölsch',\n",
              " 'Oatmeal Stout',\n",
              " 'Scotch Ale / Wee Heavy',\n",
              " 'Quadrupel (Quad)',\n",
              " 'American Double / Imperial IPA',\n",
              " 'German Pilsener',\n",
              " 'Saison / Farmhouse Ale',\n",
              " 'American Adjunct Lager',\n",
              " 'American Amber / Red Ale',\n",
              " 'Belgian Pale Ale',\n",
              " 'American Stout',\n",
              " 'American IPA',\n",
              " 'English Stout',\n",
              " 'American Wild Ale',\n",
              " 'Russian Imperial Stout',\n",
              " 'Gueuze',\n",
              " 'American Brown Ale',\n",
              " 'Baltic Porter',\n",
              " 'Hefeweizen',\n",
              " 'American Double / Imperial Stout',\n",
              " 'Weizenbock',\n",
              " 'Maibock / Helles Bock',\n",
              " 'Old Ale',\n",
              " 'Bock',\n",
              " 'Tripel',\n",
              " 'Extra Special / Strong Bitter (ESB)',\n",
              " 'American Porter',\n",
              " 'Belgian Strong Pale Ale',\n",
              " 'Winter Warmer',\n",
              " 'English Bitter',\n",
              " 'Märzen / Oktoberfest',\n",
              " 'English Barleywine',\n",
              " 'Doppelbock',\n",
              " 'Lambic - Fruit',\n",
              " 'American Barleywine',\n",
              " 'Gose',\n",
              " 'American Blonde Ale',\n",
              " 'Belgian Strong Dark Ale',\n",
              " 'Fruit / Vegetable Beer',\n",
              " 'American Strong Ale',\n",
              " 'Belgian IPA',\n",
              " 'Wheatwine',\n",
              " 'Schwarzbier',\n",
              " 'American Black Ale',\n",
              " 'Dubbel',\n",
              " 'Japanese Rice Lager',\n",
              " 'English Strong Ale',\n",
              " 'Rye Beer',\n",
              " 'Munich Helles Lager',\n",
              " 'Dortmunder / Export Lager',\n",
              " 'English Dark Mild Ale',\n",
              " 'Chile Beer',\n",
              " 'Witbier',\n",
              " 'Irish Red Ale',\n",
              " 'Milk / Sweet Stout',\n",
              " 'English Pale Ale',\n",
              " 'Pumpkin Ale',\n",
              " 'English Porter',\n",
              " 'Scottish Ale',\n",
              " 'Munich Dunkel Lager',\n",
              " 'Bière de Garde',\n",
              " 'Cream Ale',\n",
              " 'Dunkelweizen',\n",
              " 'American Pale Wheat Ale',\n",
              " 'Foreign / Export Stout',\n",
              " 'Light Lager',\n",
              " 'English India Pale Ale (IPA)',\n",
              " 'American Double / Imperial Pilsner',\n",
              " 'Euro Pale Lager',\n",
              " 'Bière de Champagne / Bière Brut',\n",
              " 'Irish Dry Stout',\n",
              " 'Rauchbier',\n",
              " 'Herbed / Spiced Beer',\n",
              " 'Altbier',\n",
              " 'American Pale Lager',\n",
              " 'Flanders Red Ale',\n",
              " 'American Amber / Red Lager',\n",
              " 'Czech Pilsener',\n",
              " 'Faro',\n",
              " 'English Pale Mild Ale',\n",
              " 'Keller Bier / Zwickel Bier',\n",
              " 'Black & Tan',\n",
              " 'Berliner Weissbier',\n",
              " 'Smoked Beer',\n",
              " 'Braggot',\n",
              " 'Vienna Lager',\n",
              " 'Belgian Dark Ale',\n",
              " 'Euro Dark Lager',\n",
              " 'English Brown Ale',\n",
              " 'California Common / Steam Beer',\n",
              " 'Kristalweizen',\n",
              " 'Flanders Oud Bruin',\n",
              " 'American Malt Liquor',\n",
              " 'Lambic - Unblended',\n",
              " 'Roggenbier',\n",
              " 'Low Alcohol Beer',\n",
              " 'Eisbock',\n",
              " 'Scottish Gruit / Ancient Herbed Ale',\n",
              " 'Sahti',\n",
              " 'Euro Strong Lager',\n",
              " 'American Dark Wheat Ale',\n",
              " 'Kvass',\n",
              " 'Happoshu']"
            ]
          },
          "metadata": {
            "tags": []
          },
          "execution_count": 16
        }
      ]
    },
    {
      "cell_type": "markdown",
      "metadata": {
        "id": "Hssmjxb4wajY"
      },
      "source": [
        "Vemos que \"beer_style\" a secas no es una buena variable para clustering. Se podría realizar un proceso de clustering para determinar un \"espacio vectorial\" para esta variable."
      ]
    },
    {
      "cell_type": "markdown",
      "metadata": {
        "id": "T8r5FJQaqHMm"
      },
      "source": [
        "En principio pensaba considerar el \"review_time\" para ver como este afectaba pero decidí no utilizarlo por ahora. Si realizo otra versión lo incluiré."
      ]
    },
    {
      "cell_type": "code",
      "metadata": {
        "colab": {
          "base_uri": "https://localhost:8080/",
          "height": 235
        },
        "id": "NWDVDw-Njnpt",
        "outputId": "b038365a-4127-41f9-af23-3153c8bfaea1"
      },
      "source": [
        "df_data = df.drop(columns=['brewery_name', 'review_profilename', 'beer_style', 'review_time'])\n",
        "df_data = df_data.groupby(\"beer_name\").mean()\n",
        "df_data.head()"
      ],
      "execution_count": 17,
      "outputs": [
        {
          "output_type": "execute_result",
          "data": {
            "text/html": [
              "<div>\n",
              "<style scoped>\n",
              "    .dataframe tbody tr th:only-of-type {\n",
              "        vertical-align: middle;\n",
              "    }\n",
              "\n",
              "    .dataframe tbody tr th {\n",
              "        vertical-align: top;\n",
              "    }\n",
              "\n",
              "    .dataframe thead th {\n",
              "        text-align: right;\n",
              "    }\n",
              "</style>\n",
              "<table border=\"1\" class=\"dataframe\">\n",
              "  <thead>\n",
              "    <tr style=\"text-align: right;\">\n",
              "      <th></th>\n",
              "      <th>review_overall</th>\n",
              "      <th>review_aroma</th>\n",
              "      <th>review_appearance</th>\n",
              "      <th>review_palate</th>\n",
              "      <th>review_taste</th>\n",
              "      <th>beer_abv</th>\n",
              "    </tr>\n",
              "    <tr>\n",
              "      <th>beer_name</th>\n",
              "      <th></th>\n",
              "      <th></th>\n",
              "      <th></th>\n",
              "      <th></th>\n",
              "      <th></th>\n",
              "      <th></th>\n",
              "    </tr>\n",
              "  </thead>\n",
              "  <tbody>\n",
              "    <tr>\n",
              "      <th>! (Old Ale)</th>\n",
              "      <td>4.0</td>\n",
              "      <td>4.5</td>\n",
              "      <td>4.00</td>\n",
              "      <td>4.000000</td>\n",
              "      <td>4.5</td>\n",
              "      <td>8.2</td>\n",
              "    </tr>\n",
              "    <tr>\n",
              "      <th>\"100\"</th>\n",
              "      <td>4.0</td>\n",
              "      <td>4.0</td>\n",
              "      <td>4.00</td>\n",
              "      <td>4.000000</td>\n",
              "      <td>4.4</td>\n",
              "      <td>10.0</td>\n",
              "    </tr>\n",
              "    <tr>\n",
              "      <th>\"100\" Pale Ale</th>\n",
              "      <td>4.0</td>\n",
              "      <td>4.0</td>\n",
              "      <td>3.50</td>\n",
              "      <td>4.000000</td>\n",
              "      <td>4.0</td>\n",
              "      <td>6.6</td>\n",
              "    </tr>\n",
              "    <tr>\n",
              "      <th>\"12\"  Belgian Golden Strong Ale</th>\n",
              "      <td>4.0</td>\n",
              "      <td>3.5</td>\n",
              "      <td>4.25</td>\n",
              "      <td>4.750000</td>\n",
              "      <td>4.5</td>\n",
              "      <td>9.0</td>\n",
              "    </tr>\n",
              "    <tr>\n",
              "      <th>\"33\" Export</th>\n",
              "      <td>3.0</td>\n",
              "      <td>3.0</td>\n",
              "      <td>3.00</td>\n",
              "      <td>3.166667</td>\n",
              "      <td>3.0</td>\n",
              "      <td>4.8</td>\n",
              "    </tr>\n",
              "  </tbody>\n",
              "</table>\n",
              "</div>"
            ],
            "text/plain": [
              "                                 review_overall  ...  beer_abv\n",
              "beer_name                                        ...          \n",
              "! (Old Ale)                                 4.0  ...       8.2\n",
              "\"100\"                                       4.0  ...      10.0\n",
              "\"100\" Pale Ale                              4.0  ...       6.6\n",
              "\"12\"  Belgian Golden Strong Ale             4.0  ...       9.0\n",
              "\"33\" Export                                 3.0  ...       4.8\n",
              "\n",
              "[5 rows x 6 columns]"
            ]
          },
          "metadata": {
            "tags": []
          },
          "execution_count": 17
        }
      ]
    },
    {
      "cell_type": "code",
      "metadata": {
        "colab": {
          "base_uri": "https://localhost:8080/"
        },
        "id": "QG2HxxQ_pnw2",
        "outputId": "5ca3a26c-2909-4aae-cc6c-97458c593f96"
      },
      "source": [
        "X = df_data.to_numpy()\n",
        "X_train, X_test = train_test_split(X, test_size=0.2, random_state=42)\n",
        "\n",
        "print('X_train.shape = ', X_train.shape)\n",
        "print('X_test.shape = ', X_test.shape)"
      ],
      "execution_count": 18,
      "outputs": [
        {
          "output_type": "stream",
          "text": [
            "X_train.shape =  (35260, 6)\n",
            "X_test.shape =  (8815, 6)\n"
          ],
          "name": "stdout"
        }
      ]
    },
    {
      "cell_type": "markdown",
      "metadata": {
        "id": "LtqCrFCwmYOV"
      },
      "source": [
        "Ahora voy a hacer clustering para agrupar distintos tipos de cervezas... Apartir de ahí encontraré la mejor de cada cluster"
      ]
    },
    {
      "cell_type": "markdown",
      "metadata": {
        "id": "WjyRv4SdxFsr"
      },
      "source": [
        "Utilizando la métrica de \"Distorsion\" realizo una \"elbow curve\" para encontrar el número óptimo de clusters. Para eso utilizo la biblioteca yellowbrick que cuenta con funciones para realizar la curva y encontrar el valor de \"k\" que mejor se ajuste.\n",
        "\n",
        "\n",
        "Distorsion: computes the sum of squared distances from each point to its assigned center."
      ]
    },
    {
      "cell_type": "code",
      "metadata": {
        "colab": {
          "base_uri": "https://localhost:8080/",
          "height": 393
        },
        "id": "yIXKM4TQ6TcU",
        "outputId": "155a4c46-2528-4aba-d02b-caf40554ec6b"
      },
      "source": [
        "from sklearn.cluster import KMeans\n",
        "from yellowbrick.cluster import KElbowVisualizer\n",
        "\n",
        "# Instantiate the clustering model and visualizer\n",
        "model = KMeans()\n",
        "visualizer = KElbowVisualizer(model, k=(2,12), timings=False)\n",
        "\n",
        "visualizer.fit(X_train)        # Fit the data to the visualizer\n",
        "visualizer.show() "
      ],
      "execution_count": 19,
      "outputs": [
        {
          "output_type": "display_data",
          "data": {
            "image/png": "[encoded data removed]",
            "text/plain": [
              "<Figure size 576x396 with 1 Axes>"
            ]
          },
          "metadata": {
            "tags": []
          }
        },
        {
          "output_type": "execute_result",
          "data": {
            "text/plain": [
              "<matplotlib.axes._subplots.AxesSubplot at 0x7facd420b748>"
            ]
          },
          "metadata": {
            "tags": []
          },
          "execution_count": 19
        }
      ]
    },
    {
      "cell_type": "code",
      "metadata": {
        "colab": {
          "base_uri": "https://localhost:8080/"
        },
        "id": "QcYZeDKfmkzV",
        "outputId": "bee2f32d-be6a-41d1-e910-dcbae6d7265f"
      },
      "source": [
        "kmeans = KMeans(init='k-means++', n_clusters=visualizer.elbow_value_, n_init=10)\n",
        "kmeans.fit(X_train)"
      ],
      "execution_count": 20,
      "outputs": [
        {
          "output_type": "execute_result",
          "data": {
            "text/plain": [
              "KMeans(algorithm='auto', copy_x=True, init='k-means++', max_iter=300,\n",
              "       n_clusters=5, n_init=10, n_jobs=None, precompute_distances='auto',\n",
              "       random_state=None, tol=0.0001, verbose=0)"
            ]
          },
          "metadata": {
            "tags": []
          },
          "execution_count": 20
        }
      ]
    },
    {
      "cell_type": "markdown",
      "metadata": {
        "id": "n6MKj8A8e46O"
      },
      "source": [
        "Una vez listo el clasificador poseo a obtener todas la etiquetas de mis datos. Y a obtener las mejores cervezas para cada categoría"
      ]
    },
    {
      "cell_type": "code",
      "metadata": {
        "colab": {
          "base_uri": "https://localhost:8080/",
          "height": 235
        },
        "id": "1p2jYI1JAc29",
        "outputId": "2e7c06e6-182e-4c9d-ba50-7eb7eecbc455"
      },
      "source": [
        "Labels = kmeans.predict(X)\n",
        "\n",
        "df_data['category']=Labels\n",
        "\n",
        "df_data.head()"
      ],
      "execution_count": 21,
      "outputs": [
        {
          "output_type": "execute_result",
          "data": {
            "text/html": [
              "<div>\n",
              "<style scoped>\n",
              "    .dataframe tbody tr th:only-of-type {\n",
              "        vertical-align: middle;\n",
              "    }\n",
              "\n",
              "    .dataframe tbody tr th {\n",
              "        vertical-align: top;\n",
              "    }\n",
              "\n",
              "    .dataframe thead th {\n",
              "        text-align: right;\n",
              "    }\n",
              "</style>\n",
              "<table border=\"1\" class=\"dataframe\">\n",
              "  <thead>\n",
              "    <tr style=\"text-align: right;\">\n",
              "      <th></th>\n",
              "      <th>review_overall</th>\n",
              "      <th>review_aroma</th>\n",
              "      <th>review_appearance</th>\n",
              "      <th>review_palate</th>\n",
              "      <th>review_taste</th>\n",
              "      <th>beer_abv</th>\n",
              "      <th>category</th>\n",
              "    </tr>\n",
              "    <tr>\n",
              "      <th>beer_name</th>\n",
              "      <th></th>\n",
              "      <th></th>\n",
              "      <th></th>\n",
              "      <th></th>\n",
              "      <th></th>\n",
              "      <th></th>\n",
              "      <th></th>\n",
              "    </tr>\n",
              "  </thead>\n",
              "  <tbody>\n",
              "    <tr>\n",
              "      <th>! (Old Ale)</th>\n",
              "      <td>4.0</td>\n",
              "      <td>4.5</td>\n",
              "      <td>4.00</td>\n",
              "      <td>4.000000</td>\n",
              "      <td>4.5</td>\n",
              "      <td>8.2</td>\n",
              "      <td>1</td>\n",
              "    </tr>\n",
              "    <tr>\n",
              "      <th>\"100\"</th>\n",
              "      <td>4.0</td>\n",
              "      <td>4.0</td>\n",
              "      <td>4.00</td>\n",
              "      <td>4.000000</td>\n",
              "      <td>4.4</td>\n",
              "      <td>10.0</td>\n",
              "      <td>1</td>\n",
              "    </tr>\n",
              "    <tr>\n",
              "      <th>\"100\" Pale Ale</th>\n",
              "      <td>4.0</td>\n",
              "      <td>4.0</td>\n",
              "      <td>3.50</td>\n",
              "      <td>4.000000</td>\n",
              "      <td>4.0</td>\n",
              "      <td>6.6</td>\n",
              "      <td>4</td>\n",
              "    </tr>\n",
              "    <tr>\n",
              "      <th>\"12\"  Belgian Golden Strong Ale</th>\n",
              "      <td>4.0</td>\n",
              "      <td>3.5</td>\n",
              "      <td>4.25</td>\n",
              "      <td>4.750000</td>\n",
              "      <td>4.5</td>\n",
              "      <td>9.0</td>\n",
              "      <td>1</td>\n",
              "    </tr>\n",
              "    <tr>\n",
              "      <th>\"33\" Export</th>\n",
              "      <td>3.0</td>\n",
              "      <td>3.0</td>\n",
              "      <td>3.00</td>\n",
              "      <td>3.166667</td>\n",
              "      <td>3.0</td>\n",
              "      <td>4.8</td>\n",
              "      <td>3</td>\n",
              "    </tr>\n",
              "  </tbody>\n",
              "</table>\n",
              "</div>"
            ],
            "text/plain": [
              "                                 review_overall  ...  category\n",
              "beer_name                                        ...          \n",
              "! (Old Ale)                                 4.0  ...         1\n",
              "\"100\"                                       4.0  ...         1\n",
              "\"100\" Pale Ale                              4.0  ...         4\n",
              "\"12\"  Belgian Golden Strong Ale             4.0  ...         1\n",
              "\"33\" Export                                 3.0  ...         3\n",
              "\n",
              "[5 rows x 7 columns]"
            ]
          },
          "metadata": {
            "tags": []
          },
          "execution_count": 21
        }
      ]
    },
    {
      "cell_type": "markdown",
      "metadata": {
        "id": "A56LlaYTvEaL"
      },
      "source": [
        "Agrupo las cervezas por categoria y luego obtengo cada grupo.\n",
        "Agrupo cada cerveza obteniendo un promedio de los distintos valores de review y oredeno el dataframe para filtrar a los que \"en promedio\" obtuvieron la mejor review \"overall\"."
      ]
    },
    {
      "cell_type": "code",
      "metadata": {
        "colab": {
          "base_uri": "https://localhost:8080/"
        },
        "id": "lHP_GiyKxN4K",
        "outputId": "d8007181-0af7-4752-b4aa-86744bcffc07"
      },
      "source": [
        "grouped_df = df_data.groupby(\"category\")\n",
        "best = [None]*5\n",
        "\n",
        "for i in range(5):\n",
        "  Group = grouped_df.get_group(i)\n",
        "  Group = Group.sort_values(by=\"review_overall\", ascending=False)\n",
        "  best[i] = ', '.join(Group.head(3).index.tolist())\n",
        "  print(\"Las mejores cervezas en la categoria {} son: {}\".format(i,best[i]))\n"
      ],
      "execution_count": 22,
      "outputs": [
        {
          "output_type": "stream",
          "text": [
            "Las mejores cervezas en la categoria 0 son: Pioneer Bavarian Wheat, Soo's Lug, Great Lakes Truth Justice And The American Ale\n",
            "Las mejores cervezas en la categoria 1 son: Hopnitized, Brett Reverend, Birra Del Linchetto Birra Dark\n",
            "Las mejores cervezas en la categoria 2 son: Chicago Terminal Oatmeal Bourbon Stout, King's Ale, Nine Tailed Fox\n",
            "Las mejores cervezas en la categoria 3 son: Liq Natural 10P, Durty's Brew, Víking Jólabjór\n",
            "Las mejores cervezas en la categoria 4 son: Høst Bryg Kirsebær, Harp Strong, Snow Daze IPA\n"
          ],
          "name": "stdout"
        }
      ]
    },
    {
      "cell_type": "markdown",
      "metadata": {
        "id": "jAM7nzfFvqE6"
      },
      "source": [
        "Podemos pedirle al usuario que nos diga cual es su cerveza favorita* y a partir de ahi recomendarle alguna otra de la misma categoria:\n",
        "\n",
        "*puede extenderse a que indique segun la moda (valor más usual) de las categorias obtenidas en vez de ofrecerle las mejores de todas las categorias obtenidas."
      ]
    },
    {
      "cell_type": "code",
      "metadata": {
        "colab": {
          "base_uri": "https://localhost:8080/"
        },
        "id": "X4WsqnlCvpey",
        "outputId": "cc858668-aeef-4cee-caa4-61ca82620353"
      },
      "source": [
        "cerveza_fav = input(\"¿Cual es su cerveza favorita? \").split(\", \")\n",
        "print(\"\\n\")\n",
        "#filtro cervezas que no esten:\n",
        "validas = []\n",
        "for i in cerveza_fav:\n",
        "  if i in df_data.index:\n",
        "    validas.append(i)\n",
        "cerveza_fav = validas\n",
        "\n",
        "if len(cerveza_fav) == 0:\n",
        "  print(\"La entrada no es valida...\")\n",
        "\n",
        "else:\n",
        "  assigned_categories = df_data.loc[cerveza_fav][\"category\"]\n",
        "\n",
        "  #si solo introdujo una cerveza\n",
        "  if len(cerveza_fav) == 1:  \n",
        "    assigned_category = int(assigned_categories.values)\n",
        "    print(\"Si te gusta {}, deberias probar {} \\n\".format(cerveza_fav[0],best[assigned_category]))\n",
        "\n",
        "\n",
        "  #si introdujo más de una cerveza busco repetidos y unifico\n",
        "  else:\n",
        "    myset = set(assigned_categories.values)\n",
        "    for i in myset:\n",
        "\n",
        "      cervs = ', '.join(assigned_categories[assigned_categories == i].index.tolist())\n",
        "\n",
        "      print(\"Si te gusta {}, deberias probar {} \\n\".format(cervs,best[i]))"
      ],
      "execution_count": 32,
      "outputs": [
        {
          "output_type": "stream",
          "text": [
            "¿Cual es su cerveza favorita? Acme Anvil Brown Ale, Bad Boy, Cab Cherry Man, asdwq\n",
            "\n",
            "\n",
            "Si te gusta Bad Boy, Cab Cherry Man, deberias probar Hopnitized, Brett Reverend, Birra Del Linchetto Birra Dark \n",
            "\n",
            "Si te gusta Acme Anvil Brown Ale, deberias probar Høst Bryg Kirsebær, Harp Strong, Snow Daze IPA \n",
            "\n"
          ],
          "name": "stdout"
        }
      ]
    },
    {
      "cell_type": "markdown",
      "metadata": {
        "id": "rKo08d8slW-M"
      },
      "source": [
        "\n",
        "\n",
        "---\n",
        "\n",
        "\n",
        "\n",
        "Podemos encontrar las mejores cervezas para algun gusto particular observando los valores de \"aroma\", \"apariencia\", \"sabor\", \"paladar\" y se podría incluir porcentaje de alcohol.\n"
      ]
    },
    {
      "cell_type": "markdown",
      "metadata": {
        "id": "bG5ISEEDmHWN"
      },
      "source": [
        "Para eso creamos valores de \"review\" que combinen las caracteristicas deseadas."
      ]
    },
    {
      "cell_type": "markdown",
      "metadata": {
        "id": "l9qhUvG7mPDF"
      },
      "source": [
        "Ej) Si los gustos de preferencia son \"paladar y sabor\" podemos crear un valor que mezcle ambas caracteristicas como puede ser \"paladar + sabor\" o \"paladar x sabor\""
      ]
    },
    {
      "cell_type": "code",
      "metadata": {
        "colab": {
          "base_uri": "https://localhost:8080/",
          "height": 173
        },
        "id": "sB9m9Kq6o9eV",
        "outputId": "7b1de711-22bd-44a1-f988-f9ad6ea995df"
      },
      "source": [
        "df_data[\"palate_taste\"] = (df_data['review_palate']+df_data['review_taste']) /2\n",
        "\n",
        "df_data.sort_values(by=\"palate_taste\").head(3)"
      ],
      "execution_count": 33,
      "outputs": [
        {
          "output_type": "execute_result",
          "data": {
            "text/html": [
              "<div>\n",
              "<style scoped>\n",
              "    .dataframe tbody tr th:only-of-type {\n",
              "        vertical-align: middle;\n",
              "    }\n",
              "\n",
              "    .dataframe tbody tr th {\n",
              "        vertical-align: top;\n",
              "    }\n",
              "\n",
              "    .dataframe thead th {\n",
              "        text-align: right;\n",
              "    }\n",
              "</style>\n",
              "<table border=\"1\" class=\"dataframe\">\n",
              "  <thead>\n",
              "    <tr style=\"text-align: right;\">\n",
              "      <th></th>\n",
              "      <th>review_overall</th>\n",
              "      <th>review_aroma</th>\n",
              "      <th>review_appearance</th>\n",
              "      <th>review_palate</th>\n",
              "      <th>review_taste</th>\n",
              "      <th>beer_abv</th>\n",
              "      <th>category</th>\n",
              "      <th>palate_taste</th>\n",
              "    </tr>\n",
              "    <tr>\n",
              "      <th>beer_name</th>\n",
              "      <th></th>\n",
              "      <th></th>\n",
              "      <th></th>\n",
              "      <th></th>\n",
              "      <th></th>\n",
              "      <th></th>\n",
              "      <th></th>\n",
              "      <th></th>\n",
              "    </tr>\n",
              "  </thead>\n",
              "  <tbody>\n",
              "    <tr>\n",
              "      <th>Ivrest</th>\n",
              "      <td>1.0</td>\n",
              "      <td>1.5</td>\n",
              "      <td>1.5</td>\n",
              "      <td>1.0</td>\n",
              "      <td>1.0</td>\n",
              "      <td>5.0</td>\n",
              "      <td>3</td>\n",
              "      <td>1.0</td>\n",
              "    </tr>\n",
              "    <tr>\n",
              "      <th>Yanjing Lemon Beer</th>\n",
              "      <td>1.5</td>\n",
              "      <td>1.0</td>\n",
              "      <td>1.0</td>\n",
              "      <td>1.0</td>\n",
              "      <td>1.0</td>\n",
              "      <td>2.5</td>\n",
              "      <td>3</td>\n",
              "      <td>1.0</td>\n",
              "    </tr>\n",
              "    <tr>\n",
              "      <th>Geelong Our Original Pale Ale</th>\n",
              "      <td>1.0</td>\n",
              "      <td>1.0</td>\n",
              "      <td>1.0</td>\n",
              "      <td>1.0</td>\n",
              "      <td>1.0</td>\n",
              "      <td>4.5</td>\n",
              "      <td>3</td>\n",
              "      <td>1.0</td>\n",
              "    </tr>\n",
              "  </tbody>\n",
              "</table>\n",
              "</div>"
            ],
            "text/plain": [
              "                               review_overall  ...  palate_taste\n",
              "beer_name                                      ...              \n",
              "Ivrest                                    1.0  ...           1.0\n",
              "Yanjing Lemon Beer                        1.5  ...           1.0\n",
              "Geelong Our Original Pale Ale             1.0  ...           1.0\n",
              "\n",
              "[3 rows x 8 columns]"
            ]
          },
          "metadata": {
            "tags": []
          },
          "execution_count": 33
        }
      ]
    },
    {
      "cell_type": "markdown",
      "metadata": {
        "id": "f3EsOAB2QjwW"
      },
      "source": [
        "\n",
        "\n",
        "---\n",
        "\n",
        "Veamos cuales cervecerías poseen mejores reviews \"overall\" en promedio"
      ]
    },
    {
      "cell_type": "code",
      "metadata": {
        "colab": {
          "base_uri": "https://localhost:8080/",
          "height": 516
        },
        "id": "sdcz4oujQLL8",
        "outputId": "1c0ea2a7-1ce8-492a-8206-6b6be7275d6f"
      },
      "source": [
        "df2 = pd.concat([beer_reviews_1, beer_reviews_2], ignore_index=True)\n",
        "\n",
        "df2 = df2[[\"brewery_name\", \"review_overall\"]]\n",
        "\n",
        "best_reviews = df2.groupby(\"brewery_name\").mean().reset_index()\n",
        "best_reviews = best_reviews.sort_values(by=\"review_overall\", ascending=False).head(10)\n",
        "\n",
        "best_reviews.plot.bar(x = 'brewery_name', y = \"review_overall\")"
      ],
      "execution_count": 34,
      "outputs": [
        {
          "output_type": "execute_result",
          "data": {
            "text/plain": [
              "<matplotlib.axes._subplots.AxesSubplot at 0x7faccc5c9d30>"
            ]
          },
          "metadata": {
            "tags": []
          },
          "execution_count": 34
        },
        {
          "output_type": "display_data",
          "data": {
            "image/png": "[encoded data removed]",
            "text/plain": [
              "<Figure size 576x396 with 1 Axes>"
            ]
          },
          "metadata": {
            "tags": []
          }
        }
      ]
    },
    {
      "cell_type": "markdown",
      "metadata": {
        "id": "rwPgHPBEVX6T"
      },
      "source": [
        "Asi podemos buscar las mejores cervezas, estilos o cervecerías segun su puntaje medio overall o en alguna/s categoría/s."
      ]
    },
    {
      "cell_type": "markdown",
      "metadata": {
        "id": "iciUANuSWBKC"
      },
      "source": [
        "Por último obtengamos las cervecerías que producen las cervezas con mayor ABV"
      ]
    },
    {
      "cell_type": "code",
      "metadata": {
        "colab": {
          "base_uri": "https://localhost:8080/",
          "height": 364
        },
        "id": "vmh9WOpyWJZv",
        "outputId": "993a7ec6-8a6c-43f7-b8b4-8fc487a15230"
      },
      "source": [
        "df2 = pd.concat([beer_reviews_1, beer_reviews_2], ignore_index=True)\n",
        "\n",
        "df2 = df2[[\"brewery_name\", \"beer_abv\"]]\n",
        "\n",
        "best_reviews = df2.groupby(\"brewery_name\").mean().reset_index()\n",
        "best_reviews = best_reviews.sort_values(by=\"beer_abv\", ascending=False).head(10)\n",
        "\n",
        "best_reviews.plot.barh(x = 'brewery_name', y = \"beer_abv\")"
      ],
      "execution_count": 35,
      "outputs": [
        {
          "output_type": "execute_result",
          "data": {
            "text/plain": [
              "<matplotlib.axes._subplots.AxesSubplot at 0x7faccc45f3c8>"
            ]
          },
          "metadata": {
            "tags": []
          },
          "execution_count": 35
        },
        {
          "output_type": "display_data",
          "data": {
            "image/png": "[encoded data removed]",
            "text/plain": [
              "<Figure size 576x396 with 1 Axes>"
            ]
          },
          "metadata": {
            "tags": []
          }
        }
      ]
    },
    {
      "cell_type": "markdown",
      "metadata": {
        "id": "3SpUCY-7WtPk"
      },
      "source": [
        "Mientras que las cervezas con mayor ABV son:"
      ]
    },
    {
      "cell_type": "code",
      "metadata": {
        "colab": {
          "base_uri": "https://localhost:8080/",
          "height": 364
        },
        "id": "byrTYCdTWdEI",
        "outputId": "76e508cc-62ab-4cb3-d3c3-3411683a5415"
      },
      "source": [
        "df2 = pd.concat([beer_reviews_1, beer_reviews_2], ignore_index=True)\n",
        "\n",
        "df2 = df2[[\"beer_name\", \"beer_abv\"]]\n",
        "\n",
        "best_reviews = df2.groupby(\"beer_name\").mean().reset_index()\n",
        "best_reviews = best_reviews.sort_values(by=\"beer_abv\", ascending=False).head(10)\n",
        "\n",
        "best_reviews.plot.barh(x = 'beer_name', y = \"beer_abv\")"
      ],
      "execution_count": 36,
      "outputs": [
        {
          "output_type": "execute_result",
          "data": {
            "text/plain": [
              "<matplotlib.axes._subplots.AxesSubplot at 0x7faccc430c18>"
            ]
          },
          "metadata": {
            "tags": []
          },
          "execution_count": 36
        },
        {
          "output_type": "display_data",
          "data": {
            "image/png": "[encoded data removed]",
            "text/plain": [
              "<Figure size 576x396 with 1 Axes>"
            ]
          },
          "metadata": {
            "tags": []
          }
        }
      ]
    }
  ]
}