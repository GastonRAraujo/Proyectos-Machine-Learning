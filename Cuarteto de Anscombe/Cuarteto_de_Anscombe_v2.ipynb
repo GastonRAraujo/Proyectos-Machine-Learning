{
  "nbformat": 4,
  "nbformat_minor": 0,
  "metadata": {
    "colab": {
      "name": "TP1_Cuarteto_de_Anscombe_v2.ipynb",
      "provenance": [],
      "authorship_tag": "ABX9TyPmwt2YQSJI2Q3wT1CA9P/x",
      "include_colab_link": true
    },
    "kernelspec": {
      "name": "python3",
      "display_name": "Python 3"
    }
  },
  "cells": [
    {
      "cell_type": "markdown",
      "metadata": {
        "id": "view-in-github",
        "colab_type": "text"
      },
      "source": [
        "<a href=\"https://colab.research.google.com/github/GastonRAraujo/Materia-Ap_Maq/blob/master/TP1/TP1_Cuarteto_de_Anscombe_v2.ipynb\" target=\"_parent\"><img src=\"https://colab.research.google.com/assets/colab-badge.svg\" alt=\"Open In Colab\"/></a>"
      ]
    },
    {
      "cell_type": "code",
      "metadata": {
        "id": "1hrHRvajUhE-",
        "outputId": "d4c9a89d-c3d7-4838-c34f-0a883b8cc4a0",
        "colab": {
          "base_uri": "https://localhost:8080/",
          "height": 419
        }
      },
      "source": [
        "import pandas as pd\n",
        "url = 'https://raw.githubusercontent.com/GastonRAraujo/Materia-Ap_Maq/master/TP1/DataSet.csv'\n",
        "\n",
        "df = pd.read_csv(url)   #cargo el data set como un dataframe\n",
        "\n",
        "pd.set_option('display.max_rows', 10)  #limito la cantidad de lineas a mostrar\n",
        "df"
      ],
      "execution_count": 24,
      "outputs": [
        {
          "output_type": "execute_result",
          "data": {
            "text/html": [
              "<div>\n",
              "<style scoped>\n",
              "    .dataframe tbody tr th:only-of-type {\n",
              "        vertical-align: middle;\n",
              "    }\n",
              "\n",
              "    .dataframe tbody tr th {\n",
              "        vertical-align: top;\n",
              "    }\n",
              "\n",
              "    .dataframe thead th {\n",
              "        text-align: right;\n",
              "    }\n",
              "</style>\n",
              "<table border=\"1\" class=\"dataframe\">\n",
              "  <thead>\n",
              "    <tr style=\"text-align: right;\">\n",
              "      <th></th>\n",
              "      <th>Grupo</th>\n",
              "      <th>X</th>\n",
              "      <th>Y</th>\n",
              "    </tr>\n",
              "  </thead>\n",
              "  <tbody>\n",
              "    <tr>\n",
              "      <th>0</th>\n",
              "      <td>I</td>\n",
              "      <td>10</td>\n",
              "      <td>8.04</td>\n",
              "    </tr>\n",
              "    <tr>\n",
              "      <th>1</th>\n",
              "      <td>I</td>\n",
              "      <td>8</td>\n",
              "      <td>6.95</td>\n",
              "    </tr>\n",
              "    <tr>\n",
              "      <th>2</th>\n",
              "      <td>I</td>\n",
              "      <td>13</td>\n",
              "      <td>7.58</td>\n",
              "    </tr>\n",
              "    <tr>\n",
              "      <th>3</th>\n",
              "      <td>I</td>\n",
              "      <td>9</td>\n",
              "      <td>8.81</td>\n",
              "    </tr>\n",
              "    <tr>\n",
              "      <th>4</th>\n",
              "      <td>I</td>\n",
              "      <td>11</td>\n",
              "      <td>8.33</td>\n",
              "    </tr>\n",
              "    <tr>\n",
              "      <th>...</th>\n",
              "      <td>...</td>\n",
              "      <td>...</td>\n",
              "      <td>...</td>\n",
              "    </tr>\n",
              "    <tr>\n",
              "      <th>40</th>\n",
              "      <td>IV</td>\n",
              "      <td>8</td>\n",
              "      <td>5.25</td>\n",
              "    </tr>\n",
              "    <tr>\n",
              "      <th>41</th>\n",
              "      <td>IV</td>\n",
              "      <td>19</td>\n",
              "      <td>12.50</td>\n",
              "    </tr>\n",
              "    <tr>\n",
              "      <th>42</th>\n",
              "      <td>IV</td>\n",
              "      <td>8</td>\n",
              "      <td>5.56</td>\n",
              "    </tr>\n",
              "    <tr>\n",
              "      <th>43</th>\n",
              "      <td>IV</td>\n",
              "      <td>8</td>\n",
              "      <td>7.91</td>\n",
              "    </tr>\n",
              "    <tr>\n",
              "      <th>44</th>\n",
              "      <td>IV</td>\n",
              "      <td>8</td>\n",
              "      <td>6.89</td>\n",
              "    </tr>\n",
              "  </tbody>\n",
              "</table>\n",
              "<p>45 rows × 3 columns</p>\n",
              "</div>"
            ],
            "text/plain": [
              "   Grupo   X      Y\n",
              "0      I  10   8.04\n",
              "1      I   8   6.95\n",
              "2      I  13   7.58\n",
              "3      I   9   8.81\n",
              "4      I  11   8.33\n",
              "..   ...  ..    ...\n",
              "40    IV   8   5.25\n",
              "41    IV  19  12.50\n",
              "42    IV   8   5.56\n",
              "43    IV   8   7.91\n",
              "44    IV   8   6.89\n",
              "\n",
              "[45 rows x 3 columns]"
            ]
          },
          "metadata": {
            "tags": []
          },
          "execution_count": 24
        }
      ]
    },
    {
      "cell_type": "code",
      "metadata": {
        "id": "RvDV8UsXXs4D",
        "outputId": "12840bf6-6355-4e6e-f490-341f8a31bcfc",
        "colab": {
          "base_uri": "https://localhost:8080/",
          "height": 234
        }
      },
      "source": [
        "import matplotlib.pyplot as plt\n",
        "import seaborn as sns\n",
        "%matplotlib inline  \n",
        "sns.set(style=\"darkgrid\")\n",
        "\n",
        "g = sns.FacetGrid(df, col=\"Grupo\", hue=\"Grupo\") #Col te separa en graficos, HUE te da colores \n",
        "g.map(sns.scatterplot, \"X\", \"Y\", alpha=.7) "
      ],
      "execution_count": 25,
      "outputs": [
        {
          "output_type": "execute_result",
          "data": {
            "text/plain": [
              "<seaborn.axisgrid.FacetGrid at 0x7fe7937b0048>"
            ]
          },
          "metadata": {
            "tags": []
          },
          "execution_count": 25
        },
        {
          "output_type": "display_data",
          "data": {
            "image/png": "[encoded data removed]",
            "text/plain": [
              "<Figure size 864x216 with 4 Axes>"
            ]
          },
          "metadata": {
            "tags": []
          }
        }
      ]
    },
    {
      "cell_type": "code",
      "metadata": {
        "id": "TVVudVTgA0b7",
        "outputId": "e9477025-c3a9-4192-859f-693a8f84a050",
        "colab": {
          "base_uri": "https://localhost:8080/",
          "height": 234
        }
      },
      "source": [
        "#Voy a probar cada punto en cada Grupo \n",
        "#y ver si este corresponde o no graficamente \n",
        "grupos = {'I':1, 'II':2, 'III':3, 'IV':4}\n",
        "\n",
        "remanente = list(grupos.keys())\n",
        "\n",
        "df1 = pd.DataFrame({'Grupo': remanente,\n",
        "                          'X':     [16, 16, 16, 16],\n",
        "                          'Y':     [6, 6, 6, 6]})\n",
        "\n",
        "df_Test = pd.concat([df, df1], ignore_index=True)\n",
        "g = sns.FacetGrid(df_Test, col=\"Grupo\", hue=\"Grupo\") #Col te separa en graficos, HUE te da colores \n",
        "g.map(sns.scatterplot, \"X\", \"Y\", alpha=.7)"
      ],
      "execution_count": 26,
      "outputs": [
        {
          "output_type": "execute_result",
          "data": {
            "text/plain": [
              "<seaborn.axisgrid.FacetGrid at 0x7fe794317080>"
            ]
          },
          "metadata": {
            "tags": []
          },
          "execution_count": 26
        },
        {
          "output_type": "display_data",
          "data": {
            "image/png": "[encoded data removed]",
            "text/plain": [
              "<Figure size 864x216 with 4 Axes>"
            ]
          },
          "metadata": {
            "tags": []
          }
        }
      ]
    },
    {
      "cell_type": "code",
      "metadata": {
        "id": "Ex4jDJK252Gi",
        "outputId": "9a8f6354-688a-4765-baf5-12e9c554a071",
        "colab": {
          "base_uri": "https://localhost:8080/",
          "height": 251
        }
      },
      "source": [
        "INPUT1 = input('Introduce a que grupo pertenece el PUNTO (I, II, III, IV) \\n (16,6): ')\n",
        "\n",
        "Input1 = grupos.pop(INPUT1)\n",
        "remanente = list(grupos.keys())\n",
        "\n",
        "df2 = pd.DataFrame({'Grupo': remanente,\n",
        "                          'X':     [16, 16, 16],\n",
        "                          'Y':     [8, 8, 8]})\n",
        "\n",
        "df_Test = pd.concat([df, df2], ignore_index=True)\n",
        "g = sns.FacetGrid(df_Test, col=\"Grupo\", hue=\"Grupo\") #Col te separa en graficos, HUE te da colores \n",
        "g.map(sns.scatterplot, \"X\", \"Y\", alpha=.7)\n",
        "g.fig.delaxes(g.axes[0,Input1-1])\n",
        "plt.show()"
      ],
      "execution_count": 27,
      "outputs": [
        {
          "output_type": "stream",
          "text": [
            "Introduce a que grupo pertenece el PUNTO (I, II, III, IV) \n",
            " (16,6): II\n"
          ],
          "name": "stdout"
        },
        {
          "output_type": "display_data",
          "data": {
            "image/png": "[encoded data removed]",
            "text/plain": [
              "<Figure size 864x216 with 3 Axes>"
            ]
          },
          "metadata": {
            "tags": []
          }
        }
      ]
    },
    {
      "cell_type": "code",
      "metadata": {
        "id": "ZrNJhCCp55PZ",
        "outputId": "6329454e-4517-4feb-8d75-5f51c8f731e8",
        "colab": {
          "base_uri": "https://localhost:8080/",
          "height": 255
        }
      },
      "source": [
        "INPUT2 = input('Introduce a que grupo pertenece el PUNTO (UTILICE NUMERO ROMANOS) \\n(16,8): ')\n",
        "\n",
        "Input2 = grupos.pop(INPUT2)\n",
        "remanente = list(grupos.keys())\n",
        "\n",
        "df3 = pd.DataFrame({'Grupo': remanente,\n",
        "                          'X':     [16, 16],\n",
        "                          'Y':     [10, 10]})\n",
        "\n",
        "df_Test = pd.concat([df, df3], ignore_index=True)\n",
        "g = sns.FacetGrid(df_Test, col=\"Grupo\", hue=\"Grupo\") #Col te separa en graficos, HUE te da colores \n",
        "g.map(sns.scatterplot, \"X\", \"Y\", alpha=.7)\n",
        "g.fig.delaxes(g.axes[0, Input1-1])\n",
        "g.fig.delaxes(g.axes[0, Input2-1])\n",
        "plt.show()"
      ],
      "execution_count": 28,
      "outputs": [
        {
          "output_type": "stream",
          "text": [
            "Introduce a que grupo pertenece el PUNTO (UTILICE NUMERO ROMANOS) \n",
            "(16,8): I\n"
          ],
          "name": "stdout"
        },
        {
          "output_type": "display_data",
          "data": {
            "image/png": "[encoded data removed]",
            "text/plain": [
              "<Figure size 864x216 with 2 Axes>"
            ]
          },
          "metadata": {
            "tags": []
          }
        }
      ]
    },
    {
      "cell_type": "code",
      "metadata": {
        "id": "QNosqnt758J5",
        "outputId": "5efebaf1-92d0-436c-8a24-14cbabad8158",
        "colab": {
          "base_uri": "https://localhost:8080/",
          "height": 51
        }
      },
      "source": [
        "INPUT3 = input('Introduce a que grupo pertenece el PUNTO (UTILICE NUMERO ROMANOS) \\n (16,10): ')\n",
        "\n",
        "Input3 = grupos.pop(INPUT3)\n",
        "remanente = list(grupos.keys())\n",
        "\n",
        "df5 = pd.DataFrame({'Grupo': [INPUT1, INPUT2, INPUT3, remanente[0]],\n",
        "                          'X':     [16, 16, 16, 8],\n",
        "                          'Y':     [6, 8, 10, 6]})\n"
      ],
      "execution_count": 29,
      "outputs": [
        {
          "output_type": "stream",
          "text": [
            "Introduce a que grupo pertenece el PUNTO (UTILICE NUMERO ROMANOS) \n",
            " (16,10): III\n"
          ],
          "name": "stdout"
        }
      ]
    },
    {
      "cell_type": "code",
      "metadata": {
        "id": "zKYC9j6bxe9V",
        "outputId": "6fc89c38-8648-4e1f-a86a-1e7b4a529629",
        "colab": {
          "base_uri": "https://localhost:8080/",
          "height": 234
        }
      },
      "source": [
        "df = pd.concat([df, df5], ignore_index=True)\n",
        "\n",
        "\n",
        "g = sns.FacetGrid(df, col=\"Grupo\", hue=\"Grupo\") #Col te separa en graficos, HUE te da colores \n",
        "g.map(sns.scatterplot, \"X\", \"Y\", alpha=.7) "
      ],
      "execution_count": 30,
      "outputs": [
        {
          "output_type": "execute_result",
          "data": {
            "text/plain": [
              "<seaborn.axisgrid.FacetGrid at 0x7fe7938fe748>"
            ]
          },
          "metadata": {
            "tags": []
          },
          "execution_count": 30
        },
        {
          "output_type": "display_data",
          "data": {
            "image/png": "[encoded data removed]",
            "text/plain": [
              "<Figure size 864x216 with 4 Axes>"
            ]
          },
          "metadata": {
            "tags": []
          }
        }
      ]
    }
  ]
}