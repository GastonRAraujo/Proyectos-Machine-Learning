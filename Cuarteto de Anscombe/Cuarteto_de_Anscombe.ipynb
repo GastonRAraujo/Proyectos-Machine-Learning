{
  "nbformat": 4,
  "nbformat_minor": 0,
  "metadata": {
    "colab": {
      "name": "TP1_Cuarteto_de_Anscombe.ipynb",
      "provenance": [],
      "authorship_tag": "ABX9TyPd0TshDfUrPg1De4hrH/pm",
      "include_colab_link": true
    },
    "kernelspec": {
      "name": "python3",
      "display_name": "Python 3"
    }
  },
  "cells": [
    {
      "cell_type": "markdown",
      "metadata": {
        "id": "view-in-github",
        "colab_type": "text"
      },
      "source": [
        "<a href=\"https://colab.research.google.com/github/GastonRAraujo/Materia-Ap_Maq/blob/master/TP1/TP1_Cuarteto_de_Anscombe.ipynb\" target=\"_parent\"><img src=\"https://colab.research.google.com/assets/colab-badge.svg\" alt=\"Open In Colab\"/></a>"
      ]
    },
    {
      "cell_type": "code",
      "metadata": {
        "id": "1hrHRvajUhE-",
        "outputId": "55552f0d-1d9f-48b4-8a8e-17bde0feb7ab",
        "colab": {
          "base_uri": "https://localhost:8080/",
          "height": 419
        }
      },
      "source": [
        "import pandas as pd\n",
        "url = 'https://raw.githubusercontent.com/GastonRAraujo/Materia-Ap_Maq/master/TP1/DataSet.csv'\n",
        "\n",
        "df = pd.read_csv(url)   #cargo el data set como un dataframe\n",
        "\n",
        "pd.set_option('display.max_rows', 10)  #limito la cantidad de lineas a mostrar\n",
        "df"
      ],
      "execution_count": null,
      "outputs": [
        {
          "output_type": "execute_result",
          "data": {
            "text/html": [
              "<div>\n",
              "<style scoped>\n",
              "    .dataframe tbody tr th:only-of-type {\n",
              "        vertical-align: middle;\n",
              "    }\n",
              "\n",
              "    .dataframe tbody tr th {\n",
              "        vertical-align: top;\n",
              "    }\n",
              "\n",
              "    .dataframe thead th {\n",
              "        text-align: right;\n",
              "    }\n",
              "</style>\n",
              "<table border=\"1\" class=\"dataframe\">\n",
              "  <thead>\n",
              "    <tr style=\"text-align: right;\">\n",
              "      <th></th>\n",
              "      <th>Grupo</th>\n",
              "      <th>X</th>\n",
              "      <th>Y</th>\n",
              "    </tr>\n",
              "  </thead>\n",
              "  <tbody>\n",
              "    <tr>\n",
              "      <th>0</th>\n",
              "      <td>I</td>\n",
              "      <td>10</td>\n",
              "      <td>8.04</td>\n",
              "    </tr>\n",
              "    <tr>\n",
              "      <th>1</th>\n",
              "      <td>I</td>\n",
              "      <td>8</td>\n",
              "      <td>6.95</td>\n",
              "    </tr>\n",
              "    <tr>\n",
              "      <th>2</th>\n",
              "      <td>I</td>\n",
              "      <td>13</td>\n",
              "      <td>7.58</td>\n",
              "    </tr>\n",
              "    <tr>\n",
              "      <th>3</th>\n",
              "      <td>I</td>\n",
              "      <td>9</td>\n",
              "      <td>8.81</td>\n",
              "    </tr>\n",
              "    <tr>\n",
              "      <th>4</th>\n",
              "      <td>I</td>\n",
              "      <td>11</td>\n",
              "      <td>8.33</td>\n",
              "    </tr>\n",
              "    <tr>\n",
              "      <th>...</th>\n",
              "      <td>...</td>\n",
              "      <td>...</td>\n",
              "      <td>...</td>\n",
              "    </tr>\n",
              "    <tr>\n",
              "      <th>40</th>\n",
              "      <td>IV</td>\n",
              "      <td>8</td>\n",
              "      <td>5.25</td>\n",
              "    </tr>\n",
              "    <tr>\n",
              "      <th>41</th>\n",
              "      <td>IV</td>\n",
              "      <td>19</td>\n",
              "      <td>12.50</td>\n",
              "    </tr>\n",
              "    <tr>\n",
              "      <th>42</th>\n",
              "      <td>IV</td>\n",
              "      <td>8</td>\n",
              "      <td>5.56</td>\n",
              "    </tr>\n",
              "    <tr>\n",
              "      <th>43</th>\n",
              "      <td>IV</td>\n",
              "      <td>8</td>\n",
              "      <td>7.91</td>\n",
              "    </tr>\n",
              "    <tr>\n",
              "      <th>44</th>\n",
              "      <td>IV</td>\n",
              "      <td>8</td>\n",
              "      <td>6.89</td>\n",
              "    </tr>\n",
              "  </tbody>\n",
              "</table>\n",
              "<p>45 rows × 3 columns</p>\n",
              "</div>"
            ],
            "text/plain": [
              "   Grupo   X      Y\n",
              "0      I  10   8.04\n",
              "1      I   8   6.95\n",
              "2      I  13   7.58\n",
              "3      I   9   8.81\n",
              "4      I  11   8.33\n",
              "..   ...  ..    ...\n",
              "40    IV   8   5.25\n",
              "41    IV  19  12.50\n",
              "42    IV   8   5.56\n",
              "43    IV   8   7.91\n",
              "44    IV   8   6.89\n",
              "\n",
              "[45 rows x 3 columns]"
            ]
          },
          "metadata": {
            "tags": []
          },
          "execution_count": 23
        }
      ]
    },
    {
      "cell_type": "code",
      "metadata": {
        "id": "RvDV8UsXXs4D",
        "outputId": "348d5e9d-1e02-4649-89ae-75feb18edc27",
        "colab": {
          "base_uri": "https://localhost:8080/",
          "height": 234
        }
      },
      "source": [
        "import matplotlib.pyplot as plt\n",
        "import seaborn as sns\n",
        "%matplotlib inline  \n",
        "sns.set(style=\"darkgrid\")\n",
        "\n",
        "g = sns.FacetGrid(df, col=\"Grupo\", hue=\"Grupo\") #Col te separa en graficos, HUE te da colores \n",
        "g.map(sns.scatterplot, \"X\", \"Y\", alpha=.7) "
      ],
      "execution_count": null,
      "outputs": [
        {
          "output_type": "execute_result",
          "data": {
            "text/plain": [
              "<seaborn.axisgrid.FacetGrid at 0x7fd6d2270c88>"
            ]
          },
          "metadata": {
            "tags": []
          },
          "execution_count": 21
        },
        {
          "output_type": "display_data",
          "data": {
            "image/png": "[encoded data removed]",
            "text/plain": [
              "<Figure size 864x216 with 4 Axes>"
            ]
          },
          "metadata": {
            "tags": []
          }
        }
      ]
    },
    {
      "cell_type": "code",
      "metadata": {
        "id": "TVVudVTgA0b7",
        "outputId": "a900e4a3-2cde-4959-a65e-f323ecc540b6",
        "colab": {
          "base_uri": "https://localhost:8080/",
          "height": 173
        }
      },
      "source": [
        "#Voy a probar cada punto en cada Grupo \n",
        "#y ver si este corresponde o no graficamente \n",
        "\n",
        "df1 = pd.DataFrame({'Grupo': ['I', 'II', 'III', 'IV'],\n",
        "                          'X':     [16, 16, 16, 16],\n",
        "                          'Y':     [6, 6, 6, 6]})\n",
        "\n",
        "df2 = pd.DataFrame({'Grupo': ['I', 'II', 'III', 'IV'],\n",
        "                          'X':     [16, 16, 16, 16],\n",
        "                          'Y':     [8, 8, 8, 8]})\n",
        "\n",
        "df3 = pd.DataFrame({'Grupo': ['I', 'II', 'III', 'IV'],\n",
        "                          'X':     [16, 16, 16, 16],\n",
        "                          'Y':     [10, 10, 10, 10]})\n",
        "\n",
        "df4 = pd.DataFrame({'Grupo': ['I', 'II', 'III', 'IV'],\n",
        "                          'X':     [8, 8, 8, 8],\n",
        "                          'Y':     [6, 6, 6, 6]})\n",
        "\n",
        "df1"
      ],
      "execution_count": null,
      "outputs": [
        {
          "output_type": "execute_result",
          "data": {
            "text/html": [
              "<div>\n",
              "<style scoped>\n",
              "    .dataframe tbody tr th:only-of-type {\n",
              "        vertical-align: middle;\n",
              "    }\n",
              "\n",
              "    .dataframe tbody tr th {\n",
              "        vertical-align: top;\n",
              "    }\n",
              "\n",
              "    .dataframe thead th {\n",
              "        text-align: right;\n",
              "    }\n",
              "</style>\n",
              "<table border=\"1\" class=\"dataframe\">\n",
              "  <thead>\n",
              "    <tr style=\"text-align: right;\">\n",
              "      <th></th>\n",
              "      <th>Grupo</th>\n",
              "      <th>X</th>\n",
              "      <th>Y</th>\n",
              "    </tr>\n",
              "  </thead>\n",
              "  <tbody>\n",
              "    <tr>\n",
              "      <th>0</th>\n",
              "      <td>I</td>\n",
              "      <td>16</td>\n",
              "      <td>6</td>\n",
              "    </tr>\n",
              "    <tr>\n",
              "      <th>1</th>\n",
              "      <td>II</td>\n",
              "      <td>16</td>\n",
              "      <td>6</td>\n",
              "    </tr>\n",
              "    <tr>\n",
              "      <th>2</th>\n",
              "      <td>III</td>\n",
              "      <td>16</td>\n",
              "      <td>6</td>\n",
              "    </tr>\n",
              "    <tr>\n",
              "      <th>3</th>\n",
              "      <td>IV</td>\n",
              "      <td>16</td>\n",
              "      <td>6</td>\n",
              "    </tr>\n",
              "  </tbody>\n",
              "</table>\n",
              "</div>"
            ],
            "text/plain": [
              "  Grupo   X  Y\n",
              "0     I  16  6\n",
              "1    II  16  6\n",
              "2   III  16  6\n",
              "3    IV  16  6"
            ]
          },
          "metadata": {
            "tags": []
          },
          "execution_count": 29
        }
      ]
    },
    {
      "cell_type": "code",
      "metadata": {
        "id": "__4Z82JTGNd-",
        "outputId": "c135838a-53c0-417c-b97e-a61809b3dfaa",
        "colab": {
          "base_uri": "https://localhost:8080/",
          "height": 818
        }
      },
      "source": [
        "for frame in [df1,df2,df3,df4]:\n",
        "  frames = [df, frame]\n",
        "  df_Test = pd.concat(frames, ignore_index=True)\n",
        "  g = sns.FacetGrid(df_Test, col=\"Grupo\", hue=\"Grupo\") #Col te separa en graficos, HUE te da colores \n",
        "  g.map(sns.scatterplot, \"X\", \"Y\", alpha=.7) "
      ],
      "execution_count": 43,
      "outputs": [
        {
          "output_type": "display_data",
          "data": {
            "image/png": "[encoded data removed]",
            "text/plain": [
              "<Figure size 864x216 with 4 Axes>"
            ]
          },
          "metadata": {
            "tags": []
          }
        },
        {
          "output_type": "display_data",
          "data": {
            "image/png": "[encoded data removed]",
            "text/plain": [
              "<Figure size 864x216 with 4 Axes>"
            ]
          },
          "metadata": {
            "tags": []
          }
        },
        {
          "output_type": "display_data",
          "data": {
            "image/png": "[encoded data removed]",
            "text/plain": [
              "<Figure size 864x216 with 4 Axes>"
            ]
          },
          "metadata": {
            "tags": []
          }
        },
        {
          "output_type": "display_data",
          "data": {
            "image/png": "[encoded data removed]",
            "text/plain": [
              "<Figure size 864x216 with 4 Axes>"
            ]
          },
          "metadata": {
            "tags": []
          }
        }
      ]
    },
    {
      "cell_type": "code",
      "metadata": {
        "id": "hDq3eoCyG6rm",
        "outputId": "f86797ae-5942-416a-ae99-88c831d75a53",
        "colab": {
          "base_uri": "https://localhost:8080/",
          "height": 173
        }
      },
      "source": [
        "#Agrego los puntos a donde corresponde\n",
        "#(16,6) corresponde al grupo II \n",
        "#(16,8) corresponde al grupo I\n",
        "#(16,10) corresponde al grupo III\n",
        "#(8,6) corresponde al grupo IV\n",
        "\n",
        "df5 = pd.DataFrame({'Grupo': ['I', 'II', 'III', 'IV'],\n",
        "                          'X':     [16, 16, 16, 8],\n",
        "                          'Y':     [8, 6, 10, 6]})\n",
        "\n",
        "df5"
      ],
      "execution_count": 52,
      "outputs": [
        {
          "output_type": "execute_result",
          "data": {
            "text/html": [
              "<div>\n",
              "<style scoped>\n",
              "    .dataframe tbody tr th:only-of-type {\n",
              "        vertical-align: middle;\n",
              "    }\n",
              "\n",
              "    .dataframe tbody tr th {\n",
              "        vertical-align: top;\n",
              "    }\n",
              "\n",
              "    .dataframe thead th {\n",
              "        text-align: right;\n",
              "    }\n",
              "</style>\n",
              "<table border=\"1\" class=\"dataframe\">\n",
              "  <thead>\n",
              "    <tr style=\"text-align: right;\">\n",
              "      <th></th>\n",
              "      <th>Grupo</th>\n",
              "      <th>X</th>\n",
              "      <th>Y</th>\n",
              "    </tr>\n",
              "  </thead>\n",
              "  <tbody>\n",
              "    <tr>\n",
              "      <th>0</th>\n",
              "      <td>I</td>\n",
              "      <td>16</td>\n",
              "      <td>8</td>\n",
              "    </tr>\n",
              "    <tr>\n",
              "      <th>1</th>\n",
              "      <td>II</td>\n",
              "      <td>16</td>\n",
              "      <td>6</td>\n",
              "    </tr>\n",
              "    <tr>\n",
              "      <th>2</th>\n",
              "      <td>III</td>\n",
              "      <td>16</td>\n",
              "      <td>10</td>\n",
              "    </tr>\n",
              "    <tr>\n",
              "      <th>3</th>\n",
              "      <td>IV</td>\n",
              "      <td>8</td>\n",
              "      <td>6</td>\n",
              "    </tr>\n",
              "  </tbody>\n",
              "</table>\n",
              "</div>"
            ],
            "text/plain": [
              "  Grupo   X   Y\n",
              "0     I  16   8\n",
              "1    II  16   6\n",
              "2   III  16  10\n",
              "3    IV   8   6"
            ]
          },
          "metadata": {
            "tags": []
          },
          "execution_count": 52
        }
      ]
    },
    {
      "cell_type": "code",
      "metadata": {
        "id": "zKYC9j6bxe9V",
        "outputId": "1b0c42c2-3c08-4e4b-83d0-d34ddb5bef5d",
        "colab": {
          "base_uri": "https://localhost:8080/",
          "height": 234
        }
      },
      "source": [
        "df = pd.concat([df, df5], ignore_index=True)\n",
        "\n",
        "\n",
        "g = sns.FacetGrid(df, col=\"Grupo\", hue=\"Grupo\") #Col te separa en graficos, HUE te da colores \n",
        "g.map(sns.scatterplot, \"X\", \"Y\", alpha=.7) "
      ],
      "execution_count": 53,
      "outputs": [
        {
          "output_type": "execute_result",
          "data": {
            "text/plain": [
              "<seaborn.axisgrid.FacetGrid at 0x7fd6d1a5f048>"
            ]
          },
          "metadata": {
            "tags": []
          },
          "execution_count": 53
        },
        {
          "output_type": "display_data",
          "data": {
            "image/png": "[encoded data removed]",
            "text/plain": [
              "<Figure size 864x216 with 4 Axes>"
            ]
          },
          "metadata": {
            "tags": []
          }
        }
      ]
    }
  ]
}